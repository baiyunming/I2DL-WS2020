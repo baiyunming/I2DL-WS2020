{
  "nbformat": 4,
  "nbformat_minor": 0,
  "metadata": {
    "colab": {
      "name": "“[SKELETON] Lecture3_Linear_Regression.ipynb”的副本",
      "provenance": [],
      "collapsed_sections": [],
      "include_colab_link": true
    },
    "kernelspec": {
      "name": "python3",
      "display_name": "Python 3"
    },
    "widgets": {
      "application/vnd.jupyter.widget-state+json": {
        "5fa36d4b3db640e78022d60492c57270": {
          "model_module": "@jupyter-widgets/controls",
          "model_name": "HBoxModel",
          "state": {
            "_view_name": "HBoxView",
            "_dom_classes": [],
            "_model_name": "HBoxModel",
            "_view_module": "@jupyter-widgets/controls",
            "_model_module_version": "1.5.0",
            "_view_count": null,
            "_view_module_version": "1.5.0",
            "box_style": "",
            "layout": "IPY_MODEL_c04a2dca384e4e35b480c24f5e64b8bb",
            "_model_module": "@jupyter-widgets/controls",
            "children": [
              "IPY_MODEL_3493a5e955824fc8912e3c7817da7b78",
              "IPY_MODEL_31a04559a80047f1867407720d344cfe"
            ]
          }
        },
        "c04a2dca384e4e35b480c24f5e64b8bb": {
          "model_module": "@jupyter-widgets/base",
          "model_name": "LayoutModel",
          "state": {
            "_view_name": "LayoutView",
            "grid_template_rows": null,
            "right": null,
            "justify_content": null,
            "_view_module": "@jupyter-widgets/base",
            "overflow": null,
            "_model_module_version": "1.2.0",
            "_view_count": null,
            "flex_flow": null,
            "width": null,
            "min_width": null,
            "border": null,
            "align_items": null,
            "bottom": null,
            "_model_module": "@jupyter-widgets/base",
            "top": null,
            "grid_column": null,
            "overflow_y": null,
            "overflow_x": null,
            "grid_auto_flow": null,
            "grid_area": null,
            "grid_template_columns": null,
            "flex": null,
            "_model_name": "LayoutModel",
            "justify_items": null,
            "grid_row": null,
            "max_height": null,
            "align_content": null,
            "visibility": null,
            "align_self": null,
            "height": null,
            "min_height": null,
            "padding": null,
            "grid_auto_rows": null,
            "grid_gap": null,
            "max_width": null,
            "order": null,
            "_view_module_version": "1.2.0",
            "grid_template_areas": null,
            "object_position": null,
            "object_fit": null,
            "grid_auto_columns": null,
            "margin": null,
            "display": null,
            "left": null
          }
        },
        "3493a5e955824fc8912e3c7817da7b78": {
          "model_module": "@jupyter-widgets/controls",
          "model_name": "FloatProgressModel",
          "state": {
            "_view_name": "ProgressView",
            "style": "IPY_MODEL_665990c84df643c8b9604c3d8b05a4d7",
            "_dom_classes": [],
            "description": "100%",
            "_model_name": "FloatProgressModel",
            "bar_style": "success",
            "max": 1000,
            "_view_module": "@jupyter-widgets/controls",
            "_model_module_version": "1.5.0",
            "value": 1000,
            "_view_count": null,
            "_view_module_version": "1.5.0",
            "orientation": "horizontal",
            "min": 0,
            "description_tooltip": null,
            "_model_module": "@jupyter-widgets/controls",
            "layout": "IPY_MODEL_b9a4b387972c42918e49c9518a7e92cd"
          }
        },
        "31a04559a80047f1867407720d344cfe": {
          "model_module": "@jupyter-widgets/controls",
          "model_name": "HTMLModel",
          "state": {
            "_view_name": "HTMLView",
            "style": "IPY_MODEL_f16fdb94e9c34578b7bcd0040a873068",
            "_dom_classes": [],
            "description": "",
            "_model_name": "HTMLModel",
            "placeholder": "​",
            "_view_module": "@jupyter-widgets/controls",
            "_model_module_version": "1.5.0",
            "value": " 1000/1000 [00:10&lt;00:00, 97.27it/s]",
            "_view_count": null,
            "_view_module_version": "1.5.0",
            "description_tooltip": null,
            "_model_module": "@jupyter-widgets/controls",
            "layout": "IPY_MODEL_35c382bbcc0b4ad199b056bddd4b5196"
          }
        },
        "665990c84df643c8b9604c3d8b05a4d7": {
          "model_module": "@jupyter-widgets/controls",
          "model_name": "ProgressStyleModel",
          "state": {
            "_view_name": "StyleView",
            "_model_name": "ProgressStyleModel",
            "description_width": "initial",
            "_view_module": "@jupyter-widgets/base",
            "_model_module_version": "1.5.0",
            "_view_count": null,
            "_view_module_version": "1.2.0",
            "bar_color": null,
            "_model_module": "@jupyter-widgets/controls"
          }
        },
        "b9a4b387972c42918e49c9518a7e92cd": {
          "model_module": "@jupyter-widgets/base",
          "model_name": "LayoutModel",
          "state": {
            "_view_name": "LayoutView",
            "grid_template_rows": null,
            "right": null,
            "justify_content": null,
            "_view_module": "@jupyter-widgets/base",
            "overflow": null,
            "_model_module_version": "1.2.0",
            "_view_count": null,
            "flex_flow": null,
            "width": null,
            "min_width": null,
            "border": null,
            "align_items": null,
            "bottom": null,
            "_model_module": "@jupyter-widgets/base",
            "top": null,
            "grid_column": null,
            "overflow_y": null,
            "overflow_x": null,
            "grid_auto_flow": null,
            "grid_area": null,
            "grid_template_columns": null,
            "flex": null,
            "_model_name": "LayoutModel",
            "justify_items": null,
            "grid_row": null,
            "max_height": null,
            "align_content": null,
            "visibility": null,
            "align_self": null,
            "height": null,
            "min_height": null,
            "padding": null,
            "grid_auto_rows": null,
            "grid_gap": null,
            "max_width": null,
            "order": null,
            "_view_module_version": "1.2.0",
            "grid_template_areas": null,
            "object_position": null,
            "object_fit": null,
            "grid_auto_columns": null,
            "margin": null,
            "display": null,
            "left": null
          }
        },
        "f16fdb94e9c34578b7bcd0040a873068": {
          "model_module": "@jupyter-widgets/controls",
          "model_name": "DescriptionStyleModel",
          "state": {
            "_view_name": "StyleView",
            "_model_name": "DescriptionStyleModel",
            "description_width": "",
            "_view_module": "@jupyter-widgets/base",
            "_model_module_version": "1.5.0",
            "_view_count": null,
            "_view_module_version": "1.2.0",
            "_model_module": "@jupyter-widgets/controls"
          }
        },
        "35c382bbcc0b4ad199b056bddd4b5196": {
          "model_module": "@jupyter-widgets/base",
          "model_name": "LayoutModel",
          "state": {
            "_view_name": "LayoutView",
            "grid_template_rows": null,
            "right": null,
            "justify_content": null,
            "_view_module": "@jupyter-widgets/base",
            "overflow": null,
            "_model_module_version": "1.2.0",
            "_view_count": null,
            "flex_flow": null,
            "width": null,
            "min_width": null,
            "border": null,
            "align_items": null,
            "bottom": null,
            "_model_module": "@jupyter-widgets/base",
            "top": null,
            "grid_column": null,
            "overflow_y": null,
            "overflow_x": null,
            "grid_auto_flow": null,
            "grid_area": null,
            "grid_template_columns": null,
            "flex": null,
            "_model_name": "LayoutModel",
            "justify_items": null,
            "grid_row": null,
            "max_height": null,
            "align_content": null,
            "visibility": null,
            "align_self": null,
            "height": null,
            "min_height": null,
            "padding": null,
            "grid_auto_rows": null,
            "grid_gap": null,
            "max_width": null,
            "order": null,
            "_view_module_version": "1.2.0",
            "grid_template_areas": null,
            "object_position": null,
            "object_fit": null,
            "grid_auto_columns": null,
            "margin": null,
            "display": null,
            "left": null
          }
        }
      }
    }
  },
  "cells": [
    {
      "cell_type": "markdown",
      "metadata": {
        "id": "view-in-github",
        "colab_type": "text"
      },
      "source": [
        "<a href=\"https://colab.research.google.com/github/baiyunming/I2DL-WS2020/blob/main/%E2%80%9CLecture3_Linear_Regression_ipynb%E2%80%9D.ipynb\" target=\"_parent\"><img src=\"https://colab.research.google.com/assets/colab-badge.svg\" alt=\"Open In Colab\"/></a>"
      ]
    },
    {
      "cell_type": "markdown",
      "metadata": {
        "id": "EAnVFOzm8e54"
      },
      "source": [
        "# Import Packages"
      ]
    },
    {
      "cell_type": "code",
      "metadata": {
        "id": "JFj1uat-xARX"
      },
      "source": [
        "import os\n",
        "import pickle\n",
        "\n",
        "# To see the progress\n",
        "from tqdm.notebook import tqdm\n",
        "\n",
        "import numpy as np\n",
        "\n",
        "# For visualization\n",
        "import matplotlib.pyplot as plt\n",
        "\n",
        "# Things related to the pytorch\n",
        "import torch                                        # main pytorch package\n",
        "import torch.nn as nn                               # pytorch module for neural network\n",
        "from torch.utils.data import Dataset, DataLoader    # pytorch utils for dataset"
      ],
      "execution_count": 2,
      "outputs": []
    },
    {
      "cell_type": "markdown",
      "metadata": {
        "id": "m3snXumO88G7"
      },
      "source": [
        "# Make the dataset! add noise to the linear function\n",
        "- gt_w, gt_b : ground truth weight and bias for linear regression\n",
        "- x : random points\n",
        "- y : gt_w * x + gt_b + (gaussian) noise"
      ]
    },
    {
      "cell_type": "code",
      "metadata": {
        "id": "VcRUliGFxeH6"
      },
      "source": [
        "### make the linear dataset. Define the gt_w and gt_b as you want\n",
        "gt_w = 4.0\n",
        "gt_b = -2.0\n",
        "\n",
        "### define the number of data, and value of noise to add to wx+b.\n",
        "num_data = 1000\n",
        "noise_value = 2\n",
        "\n",
        "### Sample some random X between range -1~1 / or range you want..\n",
        "x_range = np.array([-1, 1])\n",
        "x = np.linspace(x_range[0], x_range[1], num_data)\n",
        "\n",
        "### Define some noise to add to wx+b\n",
        "noise = noise_value * np.random.randn(num_data)\n",
        "y = gt_w * x + gt_b + noise"
      ],
      "execution_count": 3,
      "outputs": []
    },
    {
      "cell_type": "code",
      "metadata": {
        "id": "lNg1zAcT-E_m",
        "colab": {
          "base_uri": "https://localhost:8080/",
          "height": 309
        },
        "outputId": "42aedec8-c7f7-441e-ef30-db8720dfec99"
      },
      "source": [
        "### Plot the dataset\n",
        " \n",
        "plt.plot(x, y, '.')\n",
        "\n",
        "### Plot the ground truth linear regressor\n",
        "plt.plot(x_range, x_range * gt_w + gt_b, linewidth=4)\n",
        "\n",
        "### Title and extras\n",
        "plt.title('Linear Dataset', fontsize=20)\n",
        "plt.xlabel('X', fontsize=20)\n",
        "plt.ylabel('Y', fontsize=20)\n",
        "plt.show()"
      ],
      "execution_count": 4,
      "outputs": [
        {
          "output_type": "display_data",
          "data": {
            "image/png": "[encoded data removed]",
            "text/plain": [
              "<Figure size 432x288 with 1 Axes>"
            ]
          },
          "metadata": {
            "tags": [],
            "needs_background": "light"
          }
        }
      ]
    },
    {
      "cell_type": "markdown",
      "metadata": {
        "id": "Q0cfpMI6-LfL"
      },
      "source": [
        "# Define the Pytorch Dataset with x y points\n",
        "- Define your own class, which inherits from \"Dataset\" class of pytorch\n",
        "- Define constructor of the class with init\n",
        "- Define the length of the dataset with len\n",
        "- Define the function when bringing out the idx-th dataset\n",
        "    * Return the dictionary containing the input and output of single datapoint\n"
      ]
    },
    {
      "cell_type": "code",
      "metadata": {
        "id": "ijn8tboRy9jD"
      },
      "source": [
        "class XY_Dataset(Dataset):\n",
        "    def __init__(self, x, y):\n",
        "        '''\n",
        "        x : input points\n",
        "        y : output points\n",
        "        '''\n",
        "        self.x = x \n",
        "        self.y = y \n",
        "        self.num_data = x.shape[0]\n",
        "        pass\n",
        "\n",
        "    def __len__(self):\n",
        "        return self.num_data \n",
        "\n",
        "    def __getitem__(self, idx):\n",
        "        sample = dict()\n",
        "        sample['input'] = self.x[idx]\n",
        "        sample['output'] = self.y[idx]  \n",
        "        return sample"
      ],
      "execution_count": 5,
      "outputs": []
    },
    {
      "cell_type": "markdown",
      "metadata": {
        "id": "a6Jn9ao2_CKn"
      },
      "source": [
        "# Define the dataset, and dataloader\n",
        "- DataLoader makes you to randomly sample the dataset with a batch size you want."
      ]
    },
    {
      "cell_type": "code",
      "metadata": {
        "id": "CnuQAIS90B-Z",
        "colab": {
          "base_uri": "https://localhost:8080/"
        },
        "outputId": "353409f7-87ea-4877-992a-a8c732dd226f"
      },
      "source": [
        "### Define the batch size you want\n",
        "batch_size = 64\n",
        "\n",
        "### Create the instance of dataset, and dataloader\n",
        "dataset = XY_Dataset(x,y)\n",
        "print(len(dataset))\n",
        "print(dataset[0])\n",
        "\n",
        "dataloader = DataLoader(dataset,batch_size=batch_size,shuffle=True)\n",
        "\n",
        "### Try sampling out one random data point.\n",
        "sample = next(iter(dataloader))\n",
        "print(sample)"
      ],
      "execution_count": 6,
      "outputs": [
        {
          "output_type": "stream",
          "text": [
            "1000\n",
            "{'input': -1.0, 'output': -4.737480822402923}\n",
            "{'input': tensor([-1.0000, -0.0010,  0.4875, -0.4014, -0.4194,  0.7317, -0.8719,  0.8418,\n",
            "         0.3313,  0.8699,  0.7778,  0.3514, -0.0771, -0.8739, -0.7257, -0.4214,\n",
            "         0.5295, -0.7437, -0.6056, -0.3794, -0.9520, -0.1512, -0.9580,  0.8438,\n",
            "         0.3614, -0.5115, -0.7097, -0.9399,  0.0150, -0.6717,  0.8078,  0.1011,\n",
            "        -0.1572, -0.8238,  0.5015, -0.5956, -0.4955,  0.3493, -0.1091, -0.4054,\n",
            "         0.4775,  0.2412, -0.2032,  0.7237,  0.7618, -0.4555,  0.3133,  0.5556,\n",
            "         0.5075,  0.8979, -0.1592,  0.7558,  0.7197,  0.1411, -0.2112, -0.6537,\n",
            "         0.3874,  0.7397, -0.5495,  0.7177, -0.2773,  0.5976, -0.6436,  0.0851],\n",
            "       dtype=torch.float64), 'output': tensor([-4.7375e+00, -6.6814e-01,  6.3609e-01, -3.4021e+00, -5.0367e+00,\n",
            "        -8.0984e-01, -3.9852e+00,  3.5457e+00,  4.2367e-02,  2.0312e+00,\n",
            "         3.4386e-01,  2.5090e+00,  5.0150e-01, -8.1597e+00, -7.7989e+00,\n",
            "        -5.0111e+00, -1.4364e+00, -8.0356e+00, -3.9401e+00, -2.8782e+00,\n",
            "        -5.7247e+00, -1.8958e+00, -4.1176e+00, -2.0602e+00,  1.0085e+00,\n",
            "        -4.8448e+00, -7.9261e+00, -8.1456e+00,  1.3087e-01, -5.9925e+00,\n",
            "        -8.6214e-02, -1.4272e+00, -3.5209e-01, -7.2302e+00,  6.4742e-01,\n",
            "        -3.7552e+00, -4.4546e+00,  1.8495e+00, -5.0407e-02, -8.0185e-01,\n",
            "         8.2814e-03, -4.5866e+00, -3.7525e+00,  7.2529e-01,  6.7288e-01,\n",
            "        -8.8857e+00, -1.0331e+00,  7.4173e-02,  1.1223e+00,  2.9467e+00,\n",
            "        -1.7446e+00,  1.4857e+00,  3.0273e+00, -1.9882e+00, -9.4871e-01,\n",
            "        -5.1599e+00, -8.1810e-01,  1.7770e-01, -5.7579e+00,  2.1595e+00,\n",
            "        -4.2988e+00,  1.9139e-01, -2.8656e+00, -4.3618e+00],\n",
            "       dtype=torch.float64)}\n"
          ],
          "name": "stdout"
        }
      ]
    },
    {
      "cell_type": "code",
      "metadata": {
        "colab": {
          "base_uri": "https://localhost:8080/"
        },
        "id": "KiELtFuBu08k",
        "outputId": "b17cf9ac-0b4c-44a6-e8f4-6ffecd09e579"
      },
      "source": [
        "print(sample['input'].shape)\n",
        "print(sample['input'])  #datloader convert numpy array to tensor "
      ],
      "execution_count": 7,
      "outputs": [
        {
          "output_type": "stream",
          "text": [
            "torch.Size([64])\n",
            "tensor([-1.0000, -0.0010,  0.4875, -0.4014, -0.4194,  0.7317, -0.8719,  0.8418,\n",
            "         0.3313,  0.8699,  0.7778,  0.3514, -0.0771, -0.8739, -0.7257, -0.4214,\n",
            "         0.5295, -0.7437, -0.6056, -0.3794, -0.9520, -0.1512, -0.9580,  0.8438,\n",
            "         0.3614, -0.5115, -0.7097, -0.9399,  0.0150, -0.6717,  0.8078,  0.1011,\n",
            "        -0.1572, -0.8238,  0.5015, -0.5956, -0.4955,  0.3493, -0.1091, -0.4054,\n",
            "         0.4775,  0.2412, -0.2032,  0.7237,  0.7618, -0.4555,  0.3133,  0.5556,\n",
            "         0.5075,  0.8979, -0.1592,  0.7558,  0.7197,  0.1411, -0.2112, -0.6537,\n",
            "         0.3874,  0.7397, -0.5495,  0.7177, -0.2773,  0.5976, -0.6436,  0.0851],\n",
            "       dtype=torch.float64)\n"
          ],
          "name": "stdout"
        }
      ]
    },
    {
      "cell_type": "markdown",
      "metadata": {
        "id": "lRQdUsk6_jmR"
      },
      "source": [
        "# Initialize the weight and bias."
      ]
    },
    {
      "cell_type": "code",
      "metadata": {
        "id": "lVwGIXk90uGt",
        "colab": {
          "base_uri": "https://localhost:8080/"
        },
        "outputId": "1d4fe98a-fac6-4b8e-e81f-f0f07ec27dca"
      },
      "source": [
        "### Needs requires_grad=True, if you want to make as a parameter to train.\n",
        "#pred_w = torch.FloatTensor(torch.randn(1))\n",
        "pred_w = torch.rand(1,dtype=torch.float64,requires_grad=True)\n",
        "pred_b = torch.rand(1,dtype=torch.float64,requires_grad=True)\n",
        "print('Initialized w: {}, b: {}'.format(pred_w.item(), pred_b.item())) #item get float value\n",
        "print(pred_w)"
      ],
      "execution_count": 8,
      "outputs": [
        {
          "output_type": "stream",
          "text": [
            "Initialized w: 0.4360903819490619, b: 0.6076041728321848\n",
            "tensor([0.4361], dtype=torch.float64, requires_grad=True)\n"
          ],
          "name": "stdout"
        }
      ]
    },
    {
      "cell_type": "markdown",
      "metadata": {
        "id": "HOfw2aud_0n-"
      },
      "source": [
        "# Define the ,,train'' function. "
      ]
    },
    {
      "cell_type": "code",
      "metadata": {
        "id": "v2Sogfqk2rSh"
      },
      "source": [
        "def train(pred_w, pred_b, sample, learning_rate):\n",
        "    '''\n",
        "    pred_w : weight to train.\n",
        "    pred_b : bias to train.\n",
        "    sample : sample from dataloader. dictionary containing 'x' and 'y'.\n",
        "    learning_rate : the learning rate you want. \n",
        "    pred_loss : predicted loss from this iteration\n",
        "    '''\n",
        "    \n",
        "    # get prediction\n",
        "    pred_y = pred_w * sample['input'] + pred_b\n",
        "    \n",
        "    # calculate the pred_loss\n",
        "    pred_loss = torch.mean((pred_y - sample['output'])**2)\n",
        "    \n",
        "    # make pytorch compute the gradient\n",
        "    pred_loss.backward()\n",
        "    #print(pred_w, pred_w.grad)\n",
        "    #print(pred_b, pred_b.grad)\n",
        "\n",
        "    # need ``no_grad'' to keep the computed gradient. otherwise, it will generate NoneType\n",
        "    with torch.no_grad():\n",
        "        pred_w -= learning_rate * pred_w.grad\n",
        "        pred_b -= learning_rate * pred_b.grad\n",
        "        \n",
        "    # initizlize the gradient to zero\n",
        "    pred_w.grad.zero_()\n",
        "    pred_b.grad.zero_()\n",
        "    \n",
        "    return pred_loss.item()"
      ],
      "execution_count": 9,
      "outputs": []
    },
    {
      "cell_type": "code",
      "metadata": {
        "colab": {
          "base_uri": "https://localhost:8080/"
        },
        "id": "r26vrqGxxqNE",
        "outputId": "70a08558-23c5-4f77-fe21-508d4473cd21"
      },
      "source": [
        "train(pred_w,pred_b,sample,learning_rate=0.01)"
      ],
      "execution_count": 10,
      "outputs": [
        {
          "output_type": "execute_result",
          "data": {
            "text/plain": [
              "16.278623063545986"
            ]
          },
          "metadata": {
            "tags": []
          },
          "execution_count": 10
        }
      ]
    },
    {
      "cell_type": "markdown",
      "metadata": {
        "id": "hxR6mMM7BQev"
      },
      "source": [
        "# Iterate over the dataset! With your ,,train'' function"
      ]
    },
    {
      "cell_type": "code",
      "metadata": {
        "id": "1-X2D2EA2m-E",
        "colab": {
          "base_uri": "https://localhost:8080/",
          "height": 463,
          "referenced_widgets": [
            "5fa36d4b3db640e78022d60492c57270",
            "c04a2dca384e4e35b480c24f5e64b8bb",
            "3493a5e955824fc8912e3c7817da7b78",
            "31a04559a80047f1867407720d344cfe",
            "665990c84df643c8b9604c3d8b05a4d7",
            "b9a4b387972c42918e49c9518a7e92cd",
            "f16fdb94e9c34578b7bcd0040a873068",
            "35c382bbcc0b4ad199b056bddd4b5196"
          ]
        },
        "outputId": "04079733-138a-4aa0-b9c8-2e58192faf3d"
      },
      "source": [
        "# define the maximum epoch\n",
        "max_epoch = 1000\n",
        "\n",
        "# define a list to save the loss\n",
        "loss_saver = list()\n",
        "\n",
        "# define how often you will print the result\n",
        "print_stride = 50\n",
        "\n",
        "# iterate over the dataset for (max_epoch) times\n",
        "for epoch in tqdm(range(max_epoch)):\n",
        "    total_loss = 0.0\n",
        "    for idx, sample in enumerate(dataloader):\n",
        "        curr_loss = train(pred_w, pred_b, sample, learning_rate=0.01)\n",
        "        total_loss += curr_loss / len(dataloader)\n",
        "    loss_saver.append(total_loss)\n",
        "\n",
        "    if epoch % print_stride == 0:\n",
        "      print('loss:{}'.format(total_loss))\n",
        "print()\n",
        "print('Final Prediction : pred_w = {}, pred_b = {}'.format(pred_w.item(), pred_b.item()))"
      ],
      "execution_count": 11,
      "outputs": [
        {
          "output_type": "display_data",
          "data": {
            "application/vnd.jupyter.widget-view+json": {
              "model_id": "5fa36d4b3db640e78022d60492c57270",
              "version_minor": 0,
              "version_major": 2
            },
            "text/plain": [
              "HBox(children=(FloatProgress(value=0.0, max=1000.0), HTML(value='')))"
            ]
          },
          "metadata": {
            "tags": []
          }
        },
        {
          "output_type": "stream",
          "text": [
            "loss:12.075880705970814\n",
            "loss:3.701362732097016\n",
            "loss:3.6994684025770024\n",
            "loss:3.7257989494691497\n",
            "loss:3.6913541678634822\n",
            "loss:3.6960677663702257\n",
            "loss:3.7124562142100572\n",
            "loss:3.7206406670059957\n",
            "loss:3.7103271870997028\n",
            "loss:3.688625719525749\n",
            "loss:3.68325760633114\n",
            "loss:3.71864450697685\n",
            "loss:3.6801167189714663\n",
            "loss:3.6988452532059\n",
            "loss:3.721381060534931\n",
            "loss:3.7092088953746254\n",
            "loss:3.7248543134399212\n",
            "loss:3.707988974760685\n",
            "loss:3.69065354125304\n",
            "loss:3.6944382994314453\n",
            "\n",
            "\n",
            "Final Prediction : pred_w = 4.05387679625412, pred_b = -1.882416724504617\n"
          ],
          "name": "stdout"
        }
      ]
    },
    {
      "cell_type": "markdown",
      "metadata": {
        "id": "x_Ch5xY3B_0w"
      },
      "source": [
        "# Plot the result : training loss and resulted linear regressor"
      ]
    },
    {
      "cell_type": "code",
      "metadata": {
        "id": "gJeS6J9W6j3h",
        "colab": {
          "base_uri": "https://localhost:8080/",
          "height": 472
        },
        "outputId": "f61d8c44-2559-4297-ff20-14b1e1397c7e"
      },
      "source": [
        "loss_saver = np.array(loss_saver)\n",
        "plt.figure(figsize=(12, 7))\n",
        "plt.plot(np.arange(len(loss_saver)), loss_saver, '.-')\n",
        "plt.title('Training Loss', fontsize=20)\n",
        "plt.xlabel('X', fontsize=20)\n",
        "plt.ylabel('Y', fontsize=20)\n",
        "plt.show()"
      ],
      "execution_count": 12,
      "outputs": [
        {
          "output_type": "display_data",
          "data": {
            "image/png": "[encoded data removed]",
            "text/plain": [
              "<Figure size 864x504 with 1 Axes>"
            ]
          },
          "metadata": {
            "tags": [],
            "needs_background": "light"
          }
        }
      ]
    },
    {
      "cell_type": "code",
      "metadata": {
        "id": "UQEEZhkZ72RL",
        "colab": {
          "base_uri": "https://localhost:8080/",
          "height": 472
        },
        "outputId": "e76c7897-f079-4fde-e2e2-e39c532f11d2"
      },
      "source": [
        "plt.figure(figsize=(12, 7))\n",
        "\n",
        "### Plot the dataset\n",
        "plt.plot(x, y, '.')\n",
        "\n",
        "### Plot the ground truth + predicted linear regressor\n",
        "plt.plot(x_range, x_range * gt_w + gt_b, linewidth=4, label='Ground Truth')\n",
        "plt.plot(x_range, x_range * pred_w.item() + pred_b.item(), linewidth=4, label='Prediction')\n",
        "\n",
        "### Title and extras\n",
        "plt.title('Linear Dataset', fontsize=20)\n",
        "plt.xlabel('X', fontsize=20)\n",
        "plt.ylabel('Y', fontsize=20)\n",
        "plt.legend()\n",
        "plt.show()"
      ],
      "execution_count": 13,
      "outputs": [
        {
          "output_type": "display_data",
          "data": {
            "image/png": "[encoded data removed]",
            "text/plain": [
              "<Figure size 864x504 with 1 Axes>"
            ]
          },
          "metadata": {
            "tags": [],
            "needs_background": "light"
          }
        }
      ]
    },
    {
      "cell_type": "code",
      "metadata": {
        "id": "2rZGD_BJzovc"
      },
      "source": [
        ""
      ],
      "execution_count": 13,
      "outputs": []
    }
  ]
}
