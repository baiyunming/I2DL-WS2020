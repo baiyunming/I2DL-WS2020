{
 "cells": [
  {
   "cell_type": "markdown",
   "metadata": {
    "id": "kmIOkV65f5S0"
   },
   "source": [
    "### Import Packages\n"
   ]
  },
  {
   "cell_type": "code",
   "execution_count": 1,
   "metadata": {
    "colab": {
     "base_uri": "https://localhost:8080/"
    },
    "id": "X1f7bWu9lJtX",
    "outputId": "44aa920f-43c2-4ffb-8ac3-b8237394cee2"
   },
   "outputs": [
    {
     "name": "stdout",
     "output_type": "stream",
     "text": [
      "1.7.0\n"
     ]
    }
   ],
   "source": [
    "import os\n",
    "import csv\n",
    "import numpy as np\n",
    "from tqdm.notebook import tqdm\n",
    "\n",
    "import matplotlib.pyplot as plt\n",
    "\n",
    "import torch\n",
    "import torchvision\n",
    "import torch.nn as nn\n",
    "import torch.nn.functional as F\n",
    "import torch.optim as optim\n",
    "from torch.utils.data import Dataset, DataLoader\n",
    "\n",
    "print(torch.__version__)"
   ]
  },
  {
   "cell_type": "markdown",
   "metadata": {
    "id": "TTj1RldNHgSQ"
   },
   "source": [
    "### MNIST dataset is provided in default"
   ]
  },
  {
   "cell_type": "code",
   "execution_count": 2,
   "metadata": {
    "id": "pcMuF_m9Ev8W"
   },
   "outputs": [],
   "source": [
    "train_path = './mnist_train_small.csv'\n",
    "test_path = './mnist_test.csv'\n",
    "img_size = 28"
   ]
  },
  {
   "cell_type": "markdown",
   "metadata": {
    "id": "PYiku-SxHnA6"
   },
   "source": [
    "### Choose your device - use GPU or not?"
   ]
  },
  {
   "cell_type": "code",
   "execution_count": 3,
   "metadata": {
    "colab": {
     "base_uri": "https://localhost:8080/"
    },
    "id": "k44xmCOHHmF4",
    "outputId": "efdc2dd7-8c96-4737-bba0-fa08e8ef3048"
   },
   "outputs": [
    {
     "name": "stdout",
     "output_type": "stream",
     "text": [
      "Current Device : cuda\n"
     ]
    }
   ],
   "source": [
    "# device = 'cpu'\n",
    "device = 'cuda'\n",
    "print('Current Device : {}'.format(device))"
   ]
  },
  {
   "cell_type": "markdown",
   "metadata": {
    "id": "1lukzx9CHuNv"
   },
   "source": [
    "### Read the MNIST dataset\n",
    "- total 1 (label)+ 28x28 dimension. 1 For Label, 28**2 for image\n"
   ]
  },
  {
   "cell_type": "code",
   "execution_count": 4,
   "metadata": {
    "id": "KACiPSPiFOyF"
   },
   "outputs": [],
   "source": [
    "def mnist_reader(file_path, img_size=img_size):\n",
    "    total_img = list()\n",
    "    total_label = list()\n",
    "    with open(file_path) as csvfile:\n",
    "        mnist_reader = csv.reader(csvfile)\n",
    "        for row in tqdm(mnist_reader):\n",
    "            img = np.array(row[1:], dtype=np.uint16).reshape(img_size, img_size)\n",
    "            img = img / 255\n",
    "            label = int(row[0])\n",
    "\n",
    "            total_img.append(img)\n",
    "            total_label.append(label)\n",
    "\n",
    "    total_img = np.asarray(total_img)\n",
    "    total_label = np.asarray(total_label)\n",
    "    \n",
    "    return total_img, total_label"
   ]
  },
  {
   "cell_type": "code",
   "execution_count": 5,
   "metadata": {
    "colab": {
     "base_uri": "https://localhost:8080/",
     "height": 116,
     "referenced_widgets": [
      "e358c20748a34e4c963f7b5b1264c62f",
      "84d26dfc5bbb439fb77057d978d89ceb",
      "409d48fce9ad45f3b8323042d9255846",
      "42a03802ec5441448a3f25dc8d5489b9",
      "d076ce311e284c21a6055adb232a1337",
      "caea165097a04965a63f828faf727b77",
      "59d668fa54844ead925d87e4231b5099",
      "aeaec5a3e142412fbbea1fcce0bb6a4a",
      "fe0e83d2aff4462cbb8f342e2cec4da8",
      "a54b20ec1c0741b990c0f878a1a7728b",
      "86334531eecd4be086877c79b3f36136",
      "cdbde262087145d49291fb5e421db08a",
      "8563a257d2ad49c993b2a2517d30b7c2",
      "2cdeb53c09674e87be1ec584af9a37b9",
      "fac60ad7e7c54ce3822490d759bf6555",
      "a578e56e5dfc42a1af8d7ce79676b999"
     ]
    },
    "id": "sghlSXb_Gd9-",
    "outputId": "150fcce1-0249-430d-ed08-d479748654b4"
   },
   "outputs": [
    {
     "data": {
      "application/vnd.jupyter.widget-view+json": {
       "model_id": "3641b287c6394d08b30c3b9121331298",
       "version_major": 2,
       "version_minor": 0
      },
      "text/plain": [
       "HBox(children=(FloatProgress(value=1.0, bar_style='info', max=1.0), HTML(value='')))"
      ]
     },
     "metadata": {},
     "output_type": "display_data"
    },
    {
     "name": "stdout",
     "output_type": "stream",
     "text": [
      "\n"
     ]
    },
    {
     "data": {
      "application/vnd.jupyter.widget-view+json": {
       "model_id": "b83aeb17a1a84a109a6774c04122deef",
       "version_major": 2,
       "version_minor": 0
      },
      "text/plain": [
       "HBox(children=(FloatProgress(value=1.0, bar_style='info', max=1.0), HTML(value='')))"
      ]
     },
     "metadata": {},
     "output_type": "display_data"
    },
    {
     "name": "stdout",
     "output_type": "stream",
     "text": [
      "\n"
     ]
    }
   ],
   "source": [
    "train_img, train_label = mnist_reader(train_path)\n",
    "test_img, test_label = mnist_reader(test_path)"
   ]
  },
  {
   "cell_type": "markdown",
   "metadata": {
    "id": "XwsvttO0IJRL"
   },
   "source": [
    "### Define the Dataset"
   ]
  },
  {
   "cell_type": "code",
   "execution_count": 6,
   "metadata": {},
   "outputs": [
    {
     "data": {
      "text/plain": [
       "20000"
      ]
     },
     "execution_count": 6,
     "metadata": {},
     "output_type": "execute_result"
    }
   ],
   "source": [
    "len(train_img)"
   ]
  },
  {
   "cell_type": "code",
   "execution_count": 7,
   "metadata": {},
   "outputs": [
    {
     "data": {
      "text/plain": [
       "10000"
      ]
     },
     "execution_count": 7,
     "metadata": {},
     "output_type": "execute_result"
    }
   ],
   "source": [
    "len(test_img)"
   ]
  },
  {
   "cell_type": "markdown",
   "metadata": {
    "id": "j3S8BdL5IMcb"
   },
   "source": [
    "### Define the DataLoader"
   ]
  },
  {
   "cell_type": "code",
   "execution_count": 8,
   "metadata": {},
   "outputs": [],
   "source": [
    "class MNIST_Dataset(Dataset):\n",
    "    def __init__(self, target_img, target_label):\n",
    "        self.target_img = target_img\n",
    "        self.target_label = target_label\n",
    "        self.num_data = target_img.shape[0]\n",
    "\n",
    "    def __len__(self):\n",
    "        return self.num_data\n",
    "\n",
    "    def __getitem__(self, idx):\n",
    "        sample = dict()\n",
    "        sample['img'] = self.target_img[idx]\n",
    "        sample['label'] = self.target_label[idx]\n",
    "\n",
    "        return sample"
   ]
  },
  {
   "cell_type": "code",
   "execution_count": 9,
   "metadata": {
    "id": "Qu2Vn-qbIeTa"
   },
   "outputs": [],
   "source": [
    "batch_size = 64\n",
    "\n",
    "train_dataset = MNIST_Dataset(train_img, train_label)\n",
    "train_dataloader = DataLoader(train_dataset, batch_size=batch_size, shuffle=True)"
   ]
  },
  {
   "cell_type": "markdown",
   "metadata": {
    "id": "sT_N_IqnIQgQ"
   },
   "source": [
    "### Try to sample out one data point from dataloader"
   ]
  },
  {
   "cell_type": "code",
   "execution_count": 10,
   "metadata": {
    "colab": {
     "base_uri": "https://localhost:8080/"
    },
    "id": "RAiU23NUKFl7",
    "outputId": "4a05bd77-77cf-4711-b578-1118d6b6a54d"
   },
   "outputs": [
    {
     "name": "stdout",
     "output_type": "stream",
     "text": [
      "torch.Size([64, 28, 28])\n",
      "torch.Size([64])\n"
     ]
    }
   ],
   "source": [
    "sample = next(iter(train_dataloader))\n",
    "print(sample['img'].shape)\n",
    "print(sample['label'].shape)"
   ]
  },
  {
   "cell_type": "code",
   "execution_count": 11,
   "metadata": {
    "colab": {
     "base_uri": "https://localhost:8080/",
     "height": 1000
    },
    "id": "XnDU90xVTpqC",
    "outputId": "e3b69965-851a-476f-fc8f-b4a5cf27938c"
   },
   "outputs": [
    {
     "data": {
      "image/png": "[encoded data removed]",
      "text/plain": [
       "<Figure size 432x288 with 1 Axes>"
      ]
     },
     "metadata": {
      "needs_background": "light"
     },
     "output_type": "display_data"
    }
   ],
   "source": [
    "plot_idx = 0\n",
    "plt.imshow(sample['img'][plot_idx])\n",
    "plt.title('LABEL : {}'.format(sample['label'][plot_idx]))\n",
    "plt.show()"
   ]
  },
  {
   "cell_type": "markdown",
   "metadata": {
    "id": "LEjuX7lWIYlb"
   },
   "source": [
    "### Define the VAE (encoder + decoder)"
   ]
  },
  {
   "cell_type": "code",
   "execution_count": 12,
   "metadata": {
    "id": "Cx-fxCW5JD_w"
   },
   "outputs": [],
   "source": [
    "class VAE(nn.Module):\n",
    "    def __init__(self, dim_hidden_1, dim_hidden_2, dim_z, dim_input=img_size**2):\n",
    "        super(VAE, self).__init__()\n",
    "        \n",
    "        # define hidden dimension\n",
    "        self.dim_hidden_1 = dim_hidden_1\n",
    "        self.dim_hidden_2 = dim_hidden_2\n",
    "        self.dim_z = dim_z\n",
    "        self.dim_input = dim_input\n",
    "\n",
    "        # define encoder\n",
    "        self.enc_1 = nn.Linear(self.dim_input, self.dim_hidden_1)\n",
    "        self.enc_2 = nn.Linear(self.dim_hidden_1, self.dim_hidden_2)\n",
    "        self.enc_z_mean = nn.Linear(self.dim_hidden_2, self.dim_z)\n",
    "        self.enc_z_logvar = nn.Linear(self.dim_hidden_2, self.dim_z) \n",
    "        \n",
    "        # define decoder\n",
    "        self.dec_1 = nn.Linear(self.dim_z, self.dim_hidden_2)\n",
    "        self.dec_2 = nn.Linear(self.dim_hidden_2, self.dim_hidden_1)\n",
    "        self.dec_3 = nn.Linear(self.dim_hidden_1, self.dim_input)\n",
    "        \n",
    "        self.activation = nn.ReLU()\n",
    "\n",
    "    def encoder(self, img):\n",
    "        '''\n",
    "        input : img\n",
    "        output : z_mean, z_logvar\n",
    "        '''\n",
    "        batch_size = img.shape[0]\n",
    "        img = img.view(batch_size, -1)\n",
    "        out = self.activation(self.enc_1(img))\n",
    "        out = self.activation(self.enc_2(out))\n",
    "        z_mean = self.enc_z_mean(out)\n",
    "        z_logvar = self.enc_z_logvar(out)\n",
    "        \n",
    "        return z_mean, z_logvar\n",
    "\n",
    "    def sampling(self, mean, logvar):\n",
    "        '''\n",
    "        input : mean, logvar\n",
    "        output : z_sample\n",
    "        '''\n",
    "        eps = torch.randn_like(mean).to(device)\n",
    "        std = torch.exp(0.5*logvar)\n",
    "        \n",
    "        z_sample = mean + torch.mul(eps,std)\n",
    "        return z_sample\n",
    "        \n",
    "    def decoder(self, z_sample):\n",
    "        '''\n",
    "        input : z_sample\n",
    "        output : recon_img\n",
    "        '''\n",
    "        out = self.activation(self.dec_1(z_sample))\n",
    "        out = self.activation(self.dec_2(out))\n",
    "        out = self.dec_3(out)\n",
    "        return torch.sigmoid(out)\n",
    "\n",
    "    def forward(self, img):\n",
    "        '''\n",
    "        input : img\n",
    "        output : recon_img, z_mean, z_logvar\n",
    "        '''\n",
    "        z_mean, z_logvar = self.encoder(img)\n",
    "        z_sample = self.sampling(z_mean, z_logvar)\n",
    "        recon_x = self.decoder(z_sample)\n",
    "        return recon_x, z_mean, z_logvar"
   ]
  },
  {
   "cell_type": "markdown",
   "metadata": {
    "id": "r4hjFl4-IsqO"
   },
   "source": [
    "### Define the Model"
   ]
  },
  {
   "cell_type": "code",
   "execution_count": 13,
   "metadata": {
    "colab": {
     "base_uri": "https://localhost:8080/"
    },
    "id": "ZWtw-y-MKuv1",
    "outputId": "b38ee519-cbb6-46ee-9e23-9ba083000e5e"
   },
   "outputs": [
    {
     "name": "stdout",
     "output_type": "stream",
     "text": [
      "VAE(\n",
      "  (enc_1): Linear(in_features=784, out_features=512, bias=True)\n",
      "  (enc_2): Linear(in_features=512, out_features=256, bias=True)\n",
      "  (enc_z_mean): Linear(in_features=256, out_features=128, bias=True)\n",
      "  (enc_z_logvar): Linear(in_features=256, out_features=128, bias=True)\n",
      "  (dec_1): Linear(in_features=128, out_features=256, bias=True)\n",
      "  (dec_2): Linear(in_features=256, out_features=512, bias=True)\n",
      "  (dec_3): Linear(in_features=512, out_features=784, bias=True)\n",
      "  (activation): ReLU()\n",
      ")\n"
     ]
    }
   ],
   "source": [
    "dim_hidden_1 = 512\n",
    "dim_hidden_2 = 256\n",
    "dim_z = 128\n",
    "model = VAE(dim_hidden_1, dim_hidden_2, dim_z)\n",
    "model = model.to(device)\n",
    "\n",
    "optimizer = optim.Adam(model.parameters(), lr=1e-4)\n",
    "print(model)"
   ]
  },
  {
   "cell_type": "code",
   "execution_count": 14,
   "metadata": {},
   "outputs": [
    {
     "data": {
      "text/plain": [
       "torch.Size([64, 28, 28])"
      ]
     },
     "execution_count": 14,
     "metadata": {},
     "output_type": "execute_result"
    }
   ],
   "source": [
    "sample['img'].shape"
   ]
  },
  {
   "cell_type": "code",
   "execution_count": 15,
   "metadata": {},
   "outputs": [],
   "source": [
    "sample_output = model(sample['img'].float().to(device))"
   ]
  },
  {
   "cell_type": "code",
   "execution_count": 23,
   "metadata": {},
   "outputs": [
    {
     "data": {
      "text/plain": [
       "torch.Size([64, 784])"
      ]
     },
     "execution_count": 23,
     "metadata": {},
     "output_type": "execute_result"
    }
   ],
   "source": [
    "sample_output[0].shape #recon_img"
   ]
  },
  {
   "cell_type": "code",
   "execution_count": 24,
   "metadata": {},
   "outputs": [
    {
     "data": {
      "text/plain": [
       "torch.Size([64, 128])"
      ]
     },
     "execution_count": 24,
     "metadata": {},
     "output_type": "execute_result"
    }
   ],
   "source": [
    "sample_output[1].shape #mean"
   ]
  },
  {
   "cell_type": "markdown",
   "metadata": {
    "id": "hneYEzTKnuwj"
   },
   "source": [
    "### eqn (10) in paper is...\n",
    "$\\mathcal{L}(\\theta, \\phi, \\mathbf{x}^{(i)}) \\simeq \\frac{1}{2} \\sum_{j=1}^{J} \\Big(1 + log((\\sigma_j^{(i)})^2)-(\\mu_j^{(i)})^2-(\\sigma_j^{(i)})^2 \\Big)+ \\frac{1}{L} \\sum_{l=1}^{L} \\log p_\\theta(\\mathbf{x}^{(i)} | \\mathbf{z}^{(i, l)})$ \n",
    "\n",
    "* We need to do something to increase this lower bound"
   ]
  },
  {
   "cell_type": "code",
   "execution_count": 25,
   "metadata": {
    "id": "BHTp8_5BiBsH"
   },
   "outputs": [],
   "source": [
    "def criterion(recon_img, img, z_mean, z_logvar):\n",
    "    '''\n",
    "    IMPLEMENT \n",
    "    - BCE_Loss between recon_img and img (use F.binary_cross_entropy)\n",
    "    - KL_term = REFER ABOVE\n",
    "    '''\n",
    "    batch_size = img.shape[0]\n",
    "    BCE_Loss = F.binary_cross_entropy(recon_img, img.view(batch_size, -1), reduction='sum')\n",
    "    KL_term = -0.5 * torch.sum(1 + z_logvar - z_mean**2 - torch.exp(z_logvar))\n",
    "    \n",
    "    return BCE_Loss + KL_term"
   ]
  },
  {
   "cell_type": "markdown",
   "metadata": {
    "id": "DUSpLgVXIwqG"
   },
   "source": [
    "### Define functions for train/test"
   ]
  },
  {
   "cell_type": "code",
   "execution_count": 26,
   "metadata": {
    "id": "Q9pXkpAMK42y"
   },
   "outputs": [],
   "source": [
    "def train(model, optimizer, sample):\n",
    "    model.train()\n",
    "    optimizer.zero_grad()\n",
    "\n",
    "    img = sample['img'].float().to(device)\n",
    "    \n",
    "    recon_img, z_mean, z_logvar = model(img)\n",
    "\n",
    "    curr_loss = criterion(recon_img, img, z_mean, z_logvar)\n",
    "\n",
    "    curr_loss.backward()\n",
    "    optimizer.step()\n",
    "\n",
    "    return curr_loss.item()"
   ]
  },
  {
   "cell_type": "code",
   "execution_count": 27,
   "metadata": {
    "id": "MhcKwq8WOUGu"
   },
   "outputs": [],
   "source": [
    "def test(model):\n",
    "    model.eval()\n",
    "    with torch.no_grad():\n",
    "        z_sample = torch.randn(1, dim_z).to(device)\n",
    "        gen_out = model.decoder(z_sample)\n",
    "\n",
    "    return gen_out.view(img_size, img_size).detach().cpu().numpy()"
   ]
  },
  {
   "cell_type": "markdown",
   "metadata": {
    "id": "T23Toz8vI7Gu"
   },
   "source": [
    "### Run Training"
   ]
  },
  {
   "cell_type": "code",
   "execution_count": 28,
   "metadata": {
    "colab": {
     "base_uri": "https://localhost:8080/",
     "height": 725,
     "referenced_widgets": [
      "2c2641a4d451428b98710197d36c17bb",
      "d605ddca7a3248d288068efb78bd5197",
      "042e205091a34738a2d49f6e03054112",
      "d69ec20adae84dc983ae16a32fe8844b",
      "19c10742cbfe40a6bfb9042d49a689a5",
      "93c79cbdb5b44983854a356b4bbb83a3",
      "8f1a61a3539742108ca1892c94354a67",
      "2dfce7c5d1e8405ebf9ed97f5af65d1c"
     ]
    },
    "id": "-kTrpt4YMRS6",
    "outputId": "b73da101-49d8-4e08-e8af-a48cfaa68c30",
    "scrolled": false
   },
   "outputs": [
    {
     "data": {
      "application/vnd.jupyter.widget-view+json": {
       "model_id": "684f0523a2d44117be8b926c396741cb",
       "version_major": 2,
       "version_minor": 0
      },
      "text/plain": [
       "HBox(children=(FloatProgress(value=0.0), HTML(value='')))"
      ]
     },
     "metadata": {},
     "output_type": "display_data"
    },
    {
     "name": "stdout",
     "output_type": "stream",
     "text": [
      "[EPOCH 0] SAMPLED TRAINING LOSS : 16312.76603840105\n",
      "[EPOCH 1] SAMPLED TRAINING LOSS : 12684.309470472246\n",
      "[EPOCH 2] SAMPLED TRAINING LOSS : 12347.009480144268\n",
      "[EPOCH 3] SAMPLED TRAINING LOSS : 11931.787025134783\n",
      "[EPOCH 4] SAMPLED TRAINING LOSS : 11587.583004692495\n",
      "[EPOCH 5] SAMPLED TRAINING LOSS : 11103.441403129993\n",
      "[EPOCH 6] SAMPLED TRAINING LOSS : 10556.880080932999\n",
      "[EPOCH 7] SAMPLED TRAINING LOSS : 10326.900905426317\n",
      "[EPOCH 8] SAMPLED TRAINING LOSS : 10130.773975701377\n",
      "[EPOCH 9] SAMPLED TRAINING LOSS : 9955.366345097844\n",
      "[EPOCH 10] SAMPLED TRAINING LOSS : 9785.279981716756\n",
      "[EPOCH 11] SAMPLED TRAINING LOSS : 9644.42571572983\n",
      "[EPOCH 12] SAMPLED TRAINING LOSS : 9531.984470160249\n",
      "[EPOCH 13] SAMPLED TRAINING LOSS : 9420.700444913138\n",
      "[EPOCH 14] SAMPLED TRAINING LOSS : 9314.910309130388\n",
      "[EPOCH 15] SAMPLED TRAINING LOSS : 9214.57303626698\n",
      "[EPOCH 16] SAMPLED TRAINING LOSS : 9117.948480868115\n",
      "[EPOCH 17] SAMPLED TRAINING LOSS : 9017.370703749002\n",
      "[EPOCH 18] SAMPLED TRAINING LOSS : 8922.812562400162\n",
      "[EPOCH 19] SAMPLED TRAINING LOSS : 8822.764114916139\n",
      "[EPOCH 20] SAMPLED TRAINING LOSS : 8738.63083597494\n",
      "[EPOCH 21] SAMPLED TRAINING LOSS : 8638.919165273062\n",
      "[EPOCH 22] SAMPLED TRAINING LOSS : 8554.427740615016\n",
      "[EPOCH 23] SAMPLED TRAINING LOSS : 8466.896134934108\n",
      "[EPOCH 24] SAMPLED TRAINING LOSS : 8383.816694070734\n",
      "[EPOCH 25] SAMPLED TRAINING LOSS : 8300.63429060378\n",
      "[EPOCH 26] SAMPLED TRAINING LOSS : 8224.775208104538\n",
      "[EPOCH 27] SAMPLED TRAINING LOSS : 8150.272669978039\n",
      "[EPOCH 28] SAMPLED TRAINING LOSS : 8082.082090530152\n",
      "[EPOCH 29] SAMPLED TRAINING LOSS : 8010.671362538688\n",
      "[EPOCH 30] SAMPLED TRAINING LOSS : 7943.890637480037\n",
      "[EPOCH 31] SAMPLED TRAINING LOSS : 7878.240993316944\n",
      "[EPOCH 32] SAMPLED TRAINING LOSS : 7821.117853621711\n",
      "[EPOCH 33] SAMPLED TRAINING LOSS : 7763.532508143218\n",
      "[EPOCH 34] SAMPLED TRAINING LOSS : 7714.057532167281\n",
      "[EPOCH 35] SAMPLED TRAINING LOSS : 7658.308267709166\n",
      "[EPOCH 36] SAMPLED TRAINING LOSS : 7611.9977621742755\n",
      "[EPOCH 37] SAMPLED TRAINING LOSS : 7561.871558631192\n",
      "[EPOCH 38] SAMPLED TRAINING LOSS : 7517.7145348692175\n",
      "[EPOCH 39] SAMPLED TRAINING LOSS : 7480.301661092256\n",
      "[EPOCH 40] SAMPLED TRAINING LOSS : 7435.438674683006\n",
      "[EPOCH 41] SAMPLED TRAINING LOSS : 7401.613283590007\n",
      "[EPOCH 42] SAMPLED TRAINING LOSS : 7368.432295046674\n",
      "[EPOCH 43] SAMPLED TRAINING LOSS : 7333.907446523062\n",
      "[EPOCH 44] SAMPLED TRAINING LOSS : 7302.095137623551\n",
      "[EPOCH 45] SAMPLED TRAINING LOSS : 7266.524166021869\n",
      "[EPOCH 46] SAMPLED TRAINING LOSS : 7239.722019768374\n",
      "[EPOCH 47] SAMPLED TRAINING LOSS : 7209.873153735276\n",
      "[EPOCH 48] SAMPLED TRAINING LOSS : 7179.600025896069\n",
      "[EPOCH 49] SAMPLED TRAINING LOSS : 7157.0827348118055\n",
      "[EPOCH 50] SAMPLED TRAINING LOSS : 7129.883333541333\n",
      "[EPOCH 51] SAMPLED TRAINING LOSS : 7102.282900484223\n",
      "[EPOCH 52] SAMPLED TRAINING LOSS : 7081.490332655248\n",
      "[EPOCH 53] SAMPLED TRAINING LOSS : 7060.130474834018\n",
      "[EPOCH 54] SAMPLED TRAINING LOSS : 7046.184088271268\n",
      "[EPOCH 55] SAMPLED TRAINING LOSS : 7015.660451090754\n",
      "[EPOCH 56] SAMPLED TRAINING LOSS : 7002.441045109079\n",
      "[EPOCH 57] SAMPLED TRAINING LOSS : 6983.5739270292515\n",
      "[EPOCH 58] SAMPLED TRAINING LOSS : 6968.282998764475\n",
      "[EPOCH 59] SAMPLED TRAINING LOSS : 6953.426647052216\n",
      "[EPOCH 60] SAMPLED TRAINING LOSS : 6933.9679442579345\n",
      "[EPOCH 61] SAMPLED TRAINING LOSS : 6921.157884104185\n",
      "[EPOCH 62] SAMPLED TRAINING LOSS : 6907.3232780675935\n",
      "[EPOCH 63] SAMPLED TRAINING LOSS : 6891.7813404802355\n",
      "[EPOCH 64] SAMPLED TRAINING LOSS : 6876.9935408034635\n",
      "[EPOCH 65] SAMPLED TRAINING LOSS : 6867.457741831813\n",
      "[EPOCH 66] SAMPLED TRAINING LOSS : 6854.733583297977\n",
      "[EPOCH 67] SAMPLED TRAINING LOSS : 6842.6043322870955\n",
      "[EPOCH 68] SAMPLED TRAINING LOSS : 6828.577068097296\n",
      "[EPOCH 69] SAMPLED TRAINING LOSS : 6815.177456694293\n",
      "[EPOCH 70] SAMPLED TRAINING LOSS : 6807.09943465455\n",
      "[EPOCH 71] SAMPLED TRAINING LOSS : 6796.577745919033\n",
      "[EPOCH 72] SAMPLED TRAINING LOSS : 6783.458053052616\n",
      "[EPOCH 73] SAMPLED TRAINING LOSS : 6776.241610298519\n",
      "[EPOCH 74] SAMPLED TRAINING LOSS : 6761.557603927467\n",
      "[EPOCH 75] SAMPLED TRAINING LOSS : 6759.264932358227\n",
      "[EPOCH 76] SAMPLED TRAINING LOSS : 6746.643684167834\n",
      "[EPOCH 77] SAMPLED TRAINING LOSS : 6732.751248003191\n",
      "[EPOCH 78] SAMPLED TRAINING LOSS : 6724.5874507038725\n",
      "[EPOCH 79] SAMPLED TRAINING LOSS : 6718.869341085515\n",
      "[EPOCH 80] SAMPLED TRAINING LOSS : 6707.31273790061\n",
      "[EPOCH 81] SAMPLED TRAINING LOSS : 6700.262294391476\n",
      "[EPOCH 82] SAMPLED TRAINING LOSS : 6691.754493591505\n",
      "[EPOCH 83] SAMPLED TRAINING LOSS : 6681.31979769868\n",
      "[EPOCH 84] SAMPLED TRAINING LOSS : 6675.81750371281\n",
      "[EPOCH 85] SAMPLED TRAINING LOSS : 6667.920080995405\n",
      "[EPOCH 86] SAMPLED TRAINING LOSS : 6657.106766673324\n",
      "[EPOCH 87] SAMPLED TRAINING LOSS : 6646.297501341602\n",
      "[EPOCH 88] SAMPLED TRAINING LOSS : 6641.93214138628\n",
      "[EPOCH 89] SAMPLED TRAINING LOSS : 6634.838152705666\n",
      "[EPOCH 90] SAMPLED TRAINING LOSS : 6624.518085906299\n",
      "[EPOCH 91] SAMPLED TRAINING LOSS : 6619.242705421327\n",
      "[EPOCH 92] SAMPLED TRAINING LOSS : 6609.148712060703\n",
      "[EPOCH 93] SAMPLED TRAINING LOSS : 6606.592918517872\n",
      "[EPOCH 94] SAMPLED TRAINING LOSS : 6603.207776931911\n",
      "[EPOCH 95] SAMPLED TRAINING LOSS : 6592.619029864715\n",
      "[EPOCH 96] SAMPLED TRAINING LOSS : 6583.322808506386\n",
      "[EPOCH 97] SAMPLED TRAINING LOSS : 6580.63893239567\n",
      "[EPOCH 98] SAMPLED TRAINING LOSS : 6571.695022339255\n",
      "[EPOCH 99] SAMPLED TRAINING LOSS : 6568.683837890622\n",
      "\n"
     ]
    }
   ],
   "source": [
    "max_epoch = 100\n",
    "\n",
    "for epoch in tqdm(range(max_epoch)):        \n",
    "    ###Train Phase\n",
    "    \n",
    "    # Initialize Loss\n",
    "    train_loss = 0.0\n",
    "\n",
    "    # Iterate over the train_dataloader\n",
    "    for idx, sample in enumerate(train_dataloader):\n",
    "        curr_loss = train(model, optimizer, sample)\n",
    "        train_loss += curr_loss / len(train_dataloader)\n",
    "        \n",
    "    print('[EPOCH {}] SAMPLED TRAINING LOSS : {}'.format(epoch, train_loss))"
   ]
  },
  {
   "cell_type": "code",
   "execution_count": 29,
   "metadata": {
    "colab": {
     "base_uri": "https://localhost:8080/",
     "height": 98
    },
    "id": "Zsve2TFhkE1I",
    "outputId": "b59f6210-8fd5-4374-c950-ad3ee40de260"
   },
   "outputs": [
    {
     "data": {
      "image/png": "[encoded data removed]",
      "text/plain": [
       "<Figure size 720x216 with 10 Axes>"
      ]
     },
     "metadata": {
      "needs_background": "light"
     },
     "output_type": "display_data"
    }
   ],
   "source": [
    "fig, ax = plt.subplots(1, 10, figsize=(10, 3))\n",
    "for i in range(10):\n",
    "    ax[i].imshow(test(model))"
   ]
  },
  {
   "cell_type": "code",
   "execution_count": null,
   "metadata": {},
   "outputs": [],
   "source": []
  }
 ],
 "metadata": {
  "accelerator": "GPU",
  "colab": {
   "collapsed_sections": [],
   "name": "[SKELETON] Lecture 8_Variational Autoencoder",
   "provenance": [],
   "toc_visible": true
  },
  "kernelspec": {
   "display_name": "Python 3",
   "language": "python",
   "name": "python3"
  },
  "language_info": {
   "codemirror_mode": {
    "name": "ipython",
    "version": 3
   },
   "file_extension": ".py",
   "mimetype": "text/x-python",
   "name": "python",
   "nbconvert_exporter": "python",
   "pygments_lexer": "ipython3",
   "version": "3.7.9"
  },
  "widgets": {
   "application/vnd.jupyter.widget-state+json": {
    "042e205091a34738a2d49f6e03054112": {
     "model_module": "@jupyter-widgets/controls",
     "model_name": "FloatProgressModel",
     "state": {
      "_dom_classes": [],
      "_model_module": "@jupyter-widgets/controls",
      "_model_module_version": "1.5.0",
      "_model_name": "FloatProgressModel",
      "_view_count": null,
      "_view_module": "@jupyter-widgets/controls",
      "_view_module_version": "1.5.0",
      "_view_name": "ProgressView",
      "bar_style": "",
      "description": " 39%",
      "description_tooltip": null,
      "layout": "IPY_MODEL_93c79cbdb5b44983854a356b4bbb83a3",
      "max": 100,
      "min": 0,
      "orientation": "horizontal",
      "style": "IPY_MODEL_19c10742cbfe40a6bfb9042d49a689a5",
      "value": 39
     }
    },
    "19c10742cbfe40a6bfb9042d49a689a5": {
     "model_module": "@jupyter-widgets/controls",
     "model_name": "ProgressStyleModel",
     "state": {
      "_model_module": "@jupyter-widgets/controls",
      "_model_module_version": "1.5.0",
      "_model_name": "ProgressStyleModel",
      "_view_count": null,
      "_view_module": "@jupyter-widgets/base",
      "_view_module_version": "1.2.0",
      "_view_name": "StyleView",
      "bar_color": null,
      "description_width": "initial"
     }
    },
    "2c2641a4d451428b98710197d36c17bb": {
     "model_module": "@jupyter-widgets/controls",
     "model_name": "HBoxModel",
     "state": {
      "_dom_classes": [],
      "_model_module": "@jupyter-widgets/controls",
      "_model_module_version": "1.5.0",
      "_model_name": "HBoxModel",
      "_view_count": null,
      "_view_module": "@jupyter-widgets/controls",
      "_view_module_version": "1.5.0",
      "_view_name": "HBoxView",
      "box_style": "",
      "children": [
       "IPY_MODEL_042e205091a34738a2d49f6e03054112",
       "IPY_MODEL_d69ec20adae84dc983ae16a32fe8844b"
      ],
      "layout": "IPY_MODEL_d605ddca7a3248d288068efb78bd5197"
     }
    },
    "2cdeb53c09674e87be1ec584af9a37b9": {
     "model_module": "@jupyter-widgets/base",
     "model_name": "LayoutModel",
     "state": {
      "_model_module": "@jupyter-widgets/base",
      "_model_module_version": "1.2.0",
      "_model_name": "LayoutModel",
      "_view_count": null,
      "_view_module": "@jupyter-widgets/base",
      "_view_module_version": "1.2.0",
      "_view_name": "LayoutView",
      "align_content": null,
      "align_items": null,
      "align_self": null,
      "border": null,
      "bottom": null,
      "display": null,
      "flex": null,
      "flex_flow": null,
      "grid_area": null,
      "grid_auto_columns": null,
      "grid_auto_flow": null,
      "grid_auto_rows": null,
      "grid_column": null,
      "grid_gap": null,
      "grid_row": null,
      "grid_template_areas": null,
      "grid_template_columns": null,
      "grid_template_rows": null,
      "height": null,
      "justify_content": null,
      "justify_items": null,
      "left": null,
      "margin": null,
      "max_height": null,
      "max_width": null,
      "min_height": null,
      "min_width": null,
      "object_fit": null,
      "object_position": null,
      "order": null,
      "overflow": null,
      "overflow_x": null,
      "overflow_y": null,
      "padding": null,
      "right": null,
      "top": null,
      "visibility": null,
      "width": null
     }
    },
    "2dfce7c5d1e8405ebf9ed97f5af65d1c": {
     "model_module": "@jupyter-widgets/base",
     "model_name": "LayoutModel",
     "state": {
      "_model_module": "@jupyter-widgets/base",
      "_model_module_version": "1.2.0",
      "_model_name": "LayoutModel",
      "_view_count": null,
      "_view_module": "@jupyter-widgets/base",
      "_view_module_version": "1.2.0",
      "_view_name": "LayoutView",
      "align_content": null,
      "align_items": null,
      "align_self": null,
      "border": null,
      "bottom": null,
      "display": null,
      "flex": null,
      "flex_flow": null,
      "grid_area": null,
      "grid_auto_columns": null,
      "grid_auto_flow": null,
      "grid_auto_rows": null,
      "grid_column": null,
      "grid_gap": null,
      "grid_row": null,
      "grid_template_areas": null,
      "grid_template_columns": null,
      "grid_template_rows": null,
      "height": null,
      "justify_content": null,
      "justify_items": null,
      "left": null,
      "margin": null,
      "max_height": null,
      "max_width": null,
      "min_height": null,
      "min_width": null,
      "object_fit": null,
      "object_position": null,
      "order": null,
      "overflow": null,
      "overflow_x": null,
      "overflow_y": null,
      "padding": null,
      "right": null,
      "top": null,
      "visibility": null,
      "width": null
     }
    },
    "409d48fce9ad45f3b8323042d9255846": {
     "model_module": "@jupyter-widgets/controls",
     "model_name": "FloatProgressModel",
     "state": {
      "_dom_classes": [],
      "_model_module": "@jupyter-widgets/controls",
      "_model_module_version": "1.5.0",
      "_model_name": "FloatProgressModel",
      "_view_count": null,
      "_view_module": "@jupyter-widgets/controls",
      "_view_module_version": "1.5.0",
      "_view_name": "ProgressView",
      "bar_style": "success",
      "description": "",
      "description_tooltip": null,
      "layout": "IPY_MODEL_caea165097a04965a63f828faf727b77",
      "max": 1,
      "min": 0,
      "orientation": "horizontal",
      "style": "IPY_MODEL_d076ce311e284c21a6055adb232a1337",
      "value": 1
     }
    },
    "42a03802ec5441448a3f25dc8d5489b9": {
     "model_module": "@jupyter-widgets/controls",
     "model_name": "HTMLModel",
     "state": {
      "_dom_classes": [],
      "_model_module": "@jupyter-widgets/controls",
      "_model_module_version": "1.5.0",
      "_model_name": "HTMLModel",
      "_view_count": null,
      "_view_module": "@jupyter-widgets/controls",
      "_view_module_version": "1.5.0",
      "_view_name": "HTMLView",
      "description": "",
      "description_tooltip": null,
      "layout": "IPY_MODEL_aeaec5a3e142412fbbea1fcce0bb6a4a",
      "placeholder": "​",
      "style": "IPY_MODEL_59d668fa54844ead925d87e4231b5099",
      "value": " 20000/? [00:04&lt;00:00, 4447.86it/s]"
     }
    },
    "59d668fa54844ead925d87e4231b5099": {
     "model_module": "@jupyter-widgets/controls",
     "model_name": "DescriptionStyleModel",
     "state": {
      "_model_module": "@jupyter-widgets/controls",
      "_model_module_version": "1.5.0",
      "_model_name": "DescriptionStyleModel",
      "_view_count": null,
      "_view_module": "@jupyter-widgets/base",
      "_view_module_version": "1.2.0",
      "_view_name": "StyleView",
      "description_width": ""
     }
    },
    "84d26dfc5bbb439fb77057d978d89ceb": {
     "model_module": "@jupyter-widgets/base",
     "model_name": "LayoutModel",
     "state": {
      "_model_module": "@jupyter-widgets/base",
      "_model_module_version": "1.2.0",
      "_model_name": "LayoutModel",
      "_view_count": null,
      "_view_module": "@jupyter-widgets/base",
      "_view_module_version": "1.2.0",
      "_view_name": "LayoutView",
      "align_content": null,
      "align_items": null,
      "align_self": null,
      "border": null,
      "bottom": null,
      "display": null,
      "flex": null,
      "flex_flow": null,
      "grid_area": null,
      "grid_auto_columns": null,
      "grid_auto_flow": null,
      "grid_auto_rows": null,
      "grid_column": null,
      "grid_gap": null,
      "grid_row": null,
      "grid_template_areas": null,
      "grid_template_columns": null,
      "grid_template_rows": null,
      "height": null,
      "justify_content": null,
      "justify_items": null,
      "left": null,
      "margin": null,
      "max_height": null,
      "max_width": null,
      "min_height": null,
      "min_width": null,
      "object_fit": null,
      "object_position": null,
      "order": null,
      "overflow": null,
      "overflow_x": null,
      "overflow_y": null,
      "padding": null,
      "right": null,
      "top": null,
      "visibility": null,
      "width": null
     }
    },
    "8563a257d2ad49c993b2a2517d30b7c2": {
     "model_module": "@jupyter-widgets/controls",
     "model_name": "ProgressStyleModel",
     "state": {
      "_model_module": "@jupyter-widgets/controls",
      "_model_module_version": "1.5.0",
      "_model_name": "ProgressStyleModel",
      "_view_count": null,
      "_view_module": "@jupyter-widgets/base",
      "_view_module_version": "1.2.0",
      "_view_name": "StyleView",
      "bar_color": null,
      "description_width": "initial"
     }
    },
    "86334531eecd4be086877c79b3f36136": {
     "model_module": "@jupyter-widgets/controls",
     "model_name": "FloatProgressModel",
     "state": {
      "_dom_classes": [],
      "_model_module": "@jupyter-widgets/controls",
      "_model_module_version": "1.5.0",
      "_model_name": "FloatProgressModel",
      "_view_count": null,
      "_view_module": "@jupyter-widgets/controls",
      "_view_module_version": "1.5.0",
      "_view_name": "ProgressView",
      "bar_style": "success",
      "description": "",
      "description_tooltip": null,
      "layout": "IPY_MODEL_2cdeb53c09674e87be1ec584af9a37b9",
      "max": 1,
      "min": 0,
      "orientation": "horizontal",
      "style": "IPY_MODEL_8563a257d2ad49c993b2a2517d30b7c2",
      "value": 1
     }
    },
    "8f1a61a3539742108ca1892c94354a67": {
     "model_module": "@jupyter-widgets/controls",
     "model_name": "DescriptionStyleModel",
     "state": {
      "_model_module": "@jupyter-widgets/controls",
      "_model_module_version": "1.5.0",
      "_model_name": "DescriptionStyleModel",
      "_view_count": null,
      "_view_module": "@jupyter-widgets/base",
      "_view_module_version": "1.2.0",
      "_view_name": "StyleView",
      "description_width": ""
     }
    },
    "93c79cbdb5b44983854a356b4bbb83a3": {
     "model_module": "@jupyter-widgets/base",
     "model_name": "LayoutModel",
     "state": {
      "_model_module": "@jupyter-widgets/base",
      "_model_module_version": "1.2.0",
      "_model_name": "LayoutModel",
      "_view_count": null,
      "_view_module": "@jupyter-widgets/base",
      "_view_module_version": "1.2.0",
      "_view_name": "LayoutView",
      "align_content": null,
      "align_items": null,
      "align_self": null,
      "border": null,
      "bottom": null,
      "display": null,
      "flex": null,
      "flex_flow": null,
      "grid_area": null,
      "grid_auto_columns": null,
      "grid_auto_flow": null,
      "grid_auto_rows": null,
      "grid_column": null,
      "grid_gap": null,
      "grid_row": null,
      "grid_template_areas": null,
      "grid_template_columns": null,
      "grid_template_rows": null,
      "height": null,
      "justify_content": null,
      "justify_items": null,
      "left": null,
      "margin": null,
      "max_height": null,
      "max_width": null,
      "min_height": null,
      "min_width": null,
      "object_fit": null,
      "object_position": null,
      "order": null,
      "overflow": null,
      "overflow_x": null,
      "overflow_y": null,
      "padding": null,
      "right": null,
      "top": null,
      "visibility": null,
      "width": null
     }
    },
    "a54b20ec1c0741b990c0f878a1a7728b": {
     "model_module": "@jupyter-widgets/base",
     "model_name": "LayoutModel",
     "state": {
      "_model_module": "@jupyter-widgets/base",
      "_model_module_version": "1.2.0",
      "_model_name": "LayoutModel",
      "_view_count": null,
      "_view_module": "@jupyter-widgets/base",
      "_view_module_version": "1.2.0",
      "_view_name": "LayoutView",
      "align_content": null,
      "align_items": null,
      "align_self": null,
      "border": null,
      "bottom": null,
      "display": null,
      "flex": null,
      "flex_flow": null,
      "grid_area": null,
      "grid_auto_columns": null,
      "grid_auto_flow": null,
      "grid_auto_rows": null,
      "grid_column": null,
      "grid_gap": null,
      "grid_row": null,
      "grid_template_areas": null,
      "grid_template_columns": null,
      "grid_template_rows": null,
      "height": null,
      "justify_content": null,
      "justify_items": null,
      "left": null,
      "margin": null,
      "max_height": null,
      "max_width": null,
      "min_height": null,
      "min_width": null,
      "object_fit": null,
      "object_position": null,
      "order": null,
      "overflow": null,
      "overflow_x": null,
      "overflow_y": null,
      "padding": null,
      "right": null,
      "top": null,
      "visibility": null,
      "width": null
     }
    },
    "a578e56e5dfc42a1af8d7ce79676b999": {
     "model_module": "@jupyter-widgets/base",
     "model_name": "LayoutModel",
     "state": {
      "_model_module": "@jupyter-widgets/base",
      "_model_module_version": "1.2.0",
      "_model_name": "LayoutModel",
      "_view_count": null,
      "_view_module": "@jupyter-widgets/base",
      "_view_module_version": "1.2.0",
      "_view_name": "LayoutView",
      "align_content": null,
      "align_items": null,
      "align_self": null,
      "border": null,
      "bottom": null,
      "display": null,
      "flex": null,
      "flex_flow": null,
      "grid_area": null,
      "grid_auto_columns": null,
      "grid_auto_flow": null,
      "grid_auto_rows": null,
      "grid_column": null,
      "grid_gap": null,
      "grid_row": null,
      "grid_template_areas": null,
      "grid_template_columns": null,
      "grid_template_rows": null,
      "height": null,
      "justify_content": null,
      "justify_items": null,
      "left": null,
      "margin": null,
      "max_height": null,
      "max_width": null,
      "min_height": null,
      "min_width": null,
      "object_fit": null,
      "object_position": null,
      "order": null,
      "overflow": null,
      "overflow_x": null,
      "overflow_y": null,
      "padding": null,
      "right": null,
      "top": null,
      "visibility": null,
      "width": null
     }
    },
    "aeaec5a3e142412fbbea1fcce0bb6a4a": {
     "model_module": "@jupyter-widgets/base",
     "model_name": "LayoutModel",
     "state": {
      "_model_module": "@jupyter-widgets/base",
      "_model_module_version": "1.2.0",
      "_model_name": "LayoutModel",
      "_view_count": null,
      "_view_module": "@jupyter-widgets/base",
      "_view_module_version": "1.2.0",
      "_view_name": "LayoutView",
      "align_content": null,
      "align_items": null,
      "align_self": null,
      "border": null,
      "bottom": null,
      "display": null,
      "flex": null,
      "flex_flow": null,
      "grid_area": null,
      "grid_auto_columns": null,
      "grid_auto_flow": null,
      "grid_auto_rows": null,
      "grid_column": null,
      "grid_gap": null,
      "grid_row": null,
      "grid_template_areas": null,
      "grid_template_columns": null,
      "grid_template_rows": null,
      "height": null,
      "justify_content": null,
      "justify_items": null,
      "left": null,
      "margin": null,
      "max_height": null,
      "max_width": null,
      "min_height": null,
      "min_width": null,
      "object_fit": null,
      "object_position": null,
      "order": null,
      "overflow": null,
      "overflow_x": null,
      "overflow_y": null,
      "padding": null,
      "right": null,
      "top": null,
      "visibility": null,
      "width": null
     }
    },
    "caea165097a04965a63f828faf727b77": {
     "model_module": "@jupyter-widgets/base",
     "model_name": "LayoutModel",
     "state": {
      "_model_module": "@jupyter-widgets/base",
      "_model_module_version": "1.2.0",
      "_model_name": "LayoutModel",
      "_view_count": null,
      "_view_module": "@jupyter-widgets/base",
      "_view_module_version": "1.2.0",
      "_view_name": "LayoutView",
      "align_content": null,
      "align_items": null,
      "align_self": null,
      "border": null,
      "bottom": null,
      "display": null,
      "flex": null,
      "flex_flow": null,
      "grid_area": null,
      "grid_auto_columns": null,
      "grid_auto_flow": null,
      "grid_auto_rows": null,
      "grid_column": null,
      "grid_gap": null,
      "grid_row": null,
      "grid_template_areas": null,
      "grid_template_columns": null,
      "grid_template_rows": null,
      "height": null,
      "justify_content": null,
      "justify_items": null,
      "left": null,
      "margin": null,
      "max_height": null,
      "max_width": null,
      "min_height": null,
      "min_width": null,
      "object_fit": null,
      "object_position": null,
      "order": null,
      "overflow": null,
      "overflow_x": null,
      "overflow_y": null,
      "padding": null,
      "right": null,
      "top": null,
      "visibility": null,
      "width": null
     }
    },
    "cdbde262087145d49291fb5e421db08a": {
     "model_module": "@jupyter-widgets/controls",
     "model_name": "HTMLModel",
     "state": {
      "_dom_classes": [],
      "_model_module": "@jupyter-widgets/controls",
      "_model_module_version": "1.5.0",
      "_model_name": "HTMLModel",
      "_view_count": null,
      "_view_module": "@jupyter-widgets/controls",
      "_view_module_version": "1.5.0",
      "_view_name": "HTMLView",
      "description": "",
      "description_tooltip": null,
      "layout": "IPY_MODEL_a578e56e5dfc42a1af8d7ce79676b999",
      "placeholder": "​",
      "style": "IPY_MODEL_fac60ad7e7c54ce3822490d759bf6555",
      "value": " 10000/? [00:01&lt;00:00, 6576.74it/s]"
     }
    },
    "d076ce311e284c21a6055adb232a1337": {
     "model_module": "@jupyter-widgets/controls",
     "model_name": "ProgressStyleModel",
     "state": {
      "_model_module": "@jupyter-widgets/controls",
      "_model_module_version": "1.5.0",
      "_model_name": "ProgressStyleModel",
      "_view_count": null,
      "_view_module": "@jupyter-widgets/base",
      "_view_module_version": "1.2.0",
      "_view_name": "StyleView",
      "bar_color": null,
      "description_width": "initial"
     }
    },
    "d605ddca7a3248d288068efb78bd5197": {
     "model_module": "@jupyter-widgets/base",
     "model_name": "LayoutModel",
     "state": {
      "_model_module": "@jupyter-widgets/base",
      "_model_module_version": "1.2.0",
      "_model_name": "LayoutModel",
      "_view_count": null,
      "_view_module": "@jupyter-widgets/base",
      "_view_module_version": "1.2.0",
      "_view_name": "LayoutView",
      "align_content": null,
      "align_items": null,
      "align_self": null,
      "border": null,
      "bottom": null,
      "display": null,
      "flex": null,
      "flex_flow": null,
      "grid_area": null,
      "grid_auto_columns": null,
      "grid_auto_flow": null,
      "grid_auto_rows": null,
      "grid_column": null,
      "grid_gap": null,
      "grid_row": null,
      "grid_template_areas": null,
      "grid_template_columns": null,
      "grid_template_rows": null,
      "height": null,
      "justify_content": null,
      "justify_items": null,
      "left": null,
      "margin": null,
      "max_height": null,
      "max_width": null,
      "min_height": null,
      "min_width": null,
      "object_fit": null,
      "object_position": null,
      "order": null,
      "overflow": null,
      "overflow_x": null,
      "overflow_y": null,
      "padding": null,
      "right": null,
      "top": null,
      "visibility": null,
      "width": null
     }
    },
    "d69ec20adae84dc983ae16a32fe8844b": {
     "model_module": "@jupyter-widgets/controls",
     "model_name": "HTMLModel",
     "state": {
      "_dom_classes": [],
      "_model_module": "@jupyter-widgets/controls",
      "_model_module_version": "1.5.0",
      "_model_name": "HTMLModel",
      "_view_count": null,
      "_view_module": "@jupyter-widgets/controls",
      "_view_module_version": "1.5.0",
      "_view_name": "HTMLView",
      "description": "",
      "description_tooltip": null,
      "layout": "IPY_MODEL_2dfce7c5d1e8405ebf9ed97f5af65d1c",
      "placeholder": "​",
      "style": "IPY_MODEL_8f1a61a3539742108ca1892c94354a67",
      "value": " 39/100 [01:03&lt;01:43,  1.70s/it]"
     }
    },
    "e358c20748a34e4c963f7b5b1264c62f": {
     "model_module": "@jupyter-widgets/controls",
     "model_name": "HBoxModel",
     "state": {
      "_dom_classes": [],
      "_model_module": "@jupyter-widgets/controls",
      "_model_module_version": "1.5.0",
      "_model_name": "HBoxModel",
      "_view_count": null,
      "_view_module": "@jupyter-widgets/controls",
      "_view_module_version": "1.5.0",
      "_view_name": "HBoxView",
      "box_style": "",
      "children": [
       "IPY_MODEL_409d48fce9ad45f3b8323042d9255846",
       "IPY_MODEL_42a03802ec5441448a3f25dc8d5489b9"
      ],
      "layout": "IPY_MODEL_84d26dfc5bbb439fb77057d978d89ceb"
     }
    },
    "fac60ad7e7c54ce3822490d759bf6555": {
     "model_module": "@jupyter-widgets/controls",
     "model_name": "DescriptionStyleModel",
     "state": {
      "_model_module": "@jupyter-widgets/controls",
      "_model_module_version": "1.5.0",
      "_model_name": "DescriptionStyleModel",
      "_view_count": null,
      "_view_module": "@jupyter-widgets/base",
      "_view_module_version": "1.2.0",
      "_view_name": "StyleView",
      "description_width": ""
     }
    },
    "fe0e83d2aff4462cbb8f342e2cec4da8": {
     "model_module": "@jupyter-widgets/controls",
     "model_name": "HBoxModel",
     "state": {
      "_dom_classes": [],
      "_model_module": "@jupyter-widgets/controls",
      "_model_module_version": "1.5.0",
      "_model_name": "HBoxModel",
      "_view_count": null,
      "_view_module": "@jupyter-widgets/controls",
      "_view_module_version": "1.5.0",
      "_view_name": "HBoxView",
      "box_style": "",
      "children": [
       "IPY_MODEL_86334531eecd4be086877c79b3f36136",
       "IPY_MODEL_cdbde262087145d49291fb5e421db08a"
      ],
      "layout": "IPY_MODEL_a54b20ec1c0741b990c0f878a1a7728b"
     }
    }
   }
  }
 },
 "nbformat": 4,
 "nbformat_minor": 1
}
