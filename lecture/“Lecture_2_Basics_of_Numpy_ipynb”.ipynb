{
  "nbformat": 4,
  "nbformat_minor": 0,
  "metadata": {
    "colab": {
      "name": "“Lecture_2_Basics of Numpy.ipynb”的副本",
      "provenance": [],
      "collapsed_sections": [],
      "include_colab_link": true
    },
    "kernelspec": {
      "name": "python3",
      "display_name": "Python 3"
    }
  },
  "cells": [
    {
      "cell_type": "markdown",
      "metadata": {
        "id": "view-in-github",
        "colab_type": "text"
      },
      "source": [
        "<a href=\"https://colab.research.google.com/github/baiyunming/I2DL-WS2020/blob/main/%E2%80%9CLecture_2_Basics_of_Numpy_ipynb%E2%80%9D.ipynb\" target=\"_parent\"><img src=\"https://colab.research.google.com/assets/colab-badge.svg\" alt=\"Open In Colab\"/></a>"
      ]
    },
    {
      "cell_type": "markdown",
      "metadata": {
        "id": "jlLL7HEfagTW"
      },
      "source": [
        "### Tutorial from : https://numpy.org/doc/stable/user/quickstart.html"
      ]
    },
    {
      "cell_type": "code",
      "metadata": {
        "id": "WCncrrJqZ-nr",
        "outputId": "aa160fbb-4f23-4996-9967-788cb62e477d",
        "colab": {
          "base_uri": "https://localhost:8080/"
        }
      },
      "source": [
        "import numpy as np\n",
        "# from skimage.transform import resize\n",
        "print(np.__version__)"
      ],
      "execution_count": 1,
      "outputs": [
        {
          "output_type": "stream",
          "text": [
            "1.18.5\n"
          ],
          "name": "stdout"
        }
      ]
    },
    {
      "cell_type": "markdown",
      "metadata": {
        "id": "muixFEEG1898"
      },
      "source": [
        "### Why we need numpy array?"
      ]
    },
    {
      "cell_type": "code",
      "metadata": {
        "id": "4u1hHLN9aU4G",
        "outputId": "190f07f0-36cd-439a-9b06-d0f602723e9f",
        "colab": {
          "base_uri": "https://localhost:8080/"
        }
      },
      "source": [
        "data_list_1 = [[1, 3, 5], [2, 4, 6]]\n",
        "data_list_2 = [[-1, 0, -1], [0, -1, -0]]\n",
        "\n",
        "# What should we do if we want to sum up values inside two lists? list append\n",
        "sum_list = data_list_1 + data_list_2\n",
        "\n",
        "# Make all as NUMPY array! convert list to array\n",
        "data_array_1 = np.array(data_list_1)\n",
        "data_array_2 = np.array(data_list_2)\n",
        "\n",
        "# And sum up the numpy arrays\n",
        "sum_array = data_array_1 + data_array_2\n",
        "\n",
        "# TRY PRINT and SEE values!\n",
        "print(sum_list)\n",
        "print(sum_array)"
      ],
      "execution_count": 2,
      "outputs": [
        {
          "output_type": "stream",
          "text": [
            "[[1, 3, 5], [2, 4, 6], [-1, 0, -1], [0, -1, 0]]\n",
            "[[0 3 4]\n",
            " [2 3 6]]\n"
          ],
          "name": "stdout"
        }
      ]
    },
    {
      "cell_type": "markdown",
      "metadata": {
        "id": "w3DunrKA1775"
      },
      "source": [
        "### Create array in a various way"
      ]
    },
    {
      "cell_type": "code",
      "metadata": {
        "id": "iTZJuUe2kfqC",
        "outputId": "03ff9db2-24c4-42ac-bad6-60bb83dd680a",
        "colab": {
          "base_uri": "https://localhost:8080/"
        }
      },
      "source": [
        "# Try various methods to create the array!\n",
        "a = np.arange(15)\n",
        "# a = np.linspace(0, 14, 15)  # 15 numbers from 0 to 14\n",
        "# a = np.ones((15))\n",
        "# a = np.zeros((15), dtype = int)\n",
        "# a = np.full((15), 10)\n",
        "# a = np.random.rand(15)\n",
        "\n",
        "print(a)\n",
        "print(a.dtype)\n",
        "print()\n",
        "\n",
        "# Watch out how array is reshaped. This would be different from the MATLAB\n",
        "a = a.reshape(3, 5)\n",
        "print(a)\n",
        "print(a.T) # transposing the array\n",
        "print()\n",
        "\n",
        "# Check the shape / dimension of the array\n",
        "print(a.shape, a.ndim)\n",
        "\n",
        "# Add the new axis\n",
        "a = a[:, np.newaxis,:]\n",
        "print(a.shape, a.ndim)\n",
        "print(a)\n",
        "print()\n",
        "\n",
        "# make a new array looks like others.\n",
        "b = np.ones_like(a)\n",
        "# b = np.zeros_like(a)\n",
        "print(b.shape)"
      ],
      "execution_count": 5,
      "outputs": [
        {
          "output_type": "stream",
          "text": [
            "[ 0  1  2  3  4  5  6  7  8  9 10 11 12 13 14]\n",
            "int64\n",
            "\n",
            "[[ 0  1  2  3  4]\n",
            " [ 5  6  7  8  9]\n",
            " [10 11 12 13 14]]\n",
            "[[ 0  5 10]\n",
            " [ 1  6 11]\n",
            " [ 2  7 12]\n",
            " [ 3  8 13]\n",
            " [ 4  9 14]]\n",
            "\n",
            "(3, 5) 2\n",
            "(3, 1, 5) 3\n",
            "[[[ 0  1  2  3  4]]\n",
            "\n",
            " [[ 5  6  7  8  9]]\n",
            "\n",
            " [[10 11 12 13 14]]]\n",
            "\n",
            "(3, 1, 5)\n"
          ],
          "name": "stdout"
        }
      ]
    },
    {
      "cell_type": "code",
      "metadata": {
        "id": "1n6y5Jh8yj8h",
        "outputId": "6b068358-aa8d-4bcc-d802-3313f53b08c5",
        "colab": {
          "base_uri": "https://localhost:8080/"
        }
      },
      "source": [
        "a = np.arange(25).reshape(-1, 5) # -1 calculates the rest dimension automatically\n",
        "print(a)\n",
        "print()\n",
        "\n",
        "# Take the part of array\n",
        "partial_a = a[1:4, 2:4]\n",
        "print(partial_a)\n",
        "print()\n",
        "\n",
        "# another array with different shape\n",
        "b = np.arange(2) * 2 - 1\n",
        "print(b)\n",
        "print()\n",
        "\n",
        "## Check what happens. This is called as \"broadcast\"\n",
        "print(partial_a + b)\n",
        "print(partial_a * b)\n",
        "print()\n",
        "\n",
        "## If you are not unsure/suspecious of broadcasting... increase dimension duplication\n",
        "tile_b = np.tile(b, [3, 1])\n",
        "print(tile_b)\n",
        "print('Shape of tiled b : ' , tile_b.shape)\n",
        "print()\n",
        "\n",
        "## And... add the tiled b and partial a\n",
        "print(partial_a + tile_b)\n"
      ],
      "execution_count": null,
      "outputs": [
        {
          "output_type": "stream",
          "text": [
            "[[ 0  1  2  3  4]\n",
            " [ 5  6  7  8  9]\n",
            " [10 11 12 13 14]\n",
            " [15 16 17 18 19]\n",
            " [20 21 22 23 24]]\n",
            "\n",
            "[[ 7  8]\n",
            " [12 13]\n",
            " [17 18]]\n",
            "\n",
            "[-1  1]\n",
            "\n",
            "[[ 6  9]\n",
            " [11 14]\n",
            " [16 19]]\n",
            "[[ -7   8]\n",
            " [-12  13]\n",
            " [-17  18]]\n",
            "\n",
            "[[-1  1]\n",
            " [-1  1]\n",
            " [-1  1]]\n",
            "Shape of tiled b :  (3, 2)\n",
            "\n",
            "[[ 6  9]\n",
            " [11 14]\n",
            " [16 19]]\n"
          ],
          "name": "stdout"
        }
      ]
    },
    {
      "cell_type": "markdown",
      "metadata": {
        "id": "2SRGEbVG2IpY"
      },
      "source": [
        "### Eye matrix and its diagonals"
      ]
    },
    {
      "cell_type": "code",
      "metadata": {
        "id": "VljCN3bI1Zzu",
        "outputId": "0763da2e-ab40-4da4-9a02-8c3a0adc60a9",
        "colab": {
          "base_uri": "https://localhost:8080/"
        }
      },
      "source": [
        "# The \"I\" matrix diagonal matrix\n",
        "a = np.eye(10)\n",
        "print(a)\n",
        "\n",
        "# Get the diagonal of a\n",
        "b = np.diag(a)\n",
        "print(b)"
      ],
      "execution_count": 6,
      "outputs": [
        {
          "output_type": "stream",
          "text": [
            "[[1. 0. 0. 0. 0. 0. 0. 0. 0. 0.]\n",
            " [0. 1. 0. 0. 0. 0. 0. 0. 0. 0.]\n",
            " [0. 0. 1. 0. 0. 0. 0. 0. 0. 0.]\n",
            " [0. 0. 0. 1. 0. 0. 0. 0. 0. 0.]\n",
            " [0. 0. 0. 0. 1. 0. 0. 0. 0. 0.]\n",
            " [0. 0. 0. 0. 0. 1. 0. 0. 0. 0.]\n",
            " [0. 0. 0. 0. 0. 0. 1. 0. 0. 0.]\n",
            " [0. 0. 0. 0. 0. 0. 0. 1. 0. 0.]\n",
            " [0. 0. 0. 0. 0. 0. 0. 0. 1. 0.]\n",
            " [0. 0. 0. 0. 0. 0. 0. 0. 0. 1.]]\n",
            "[1. 1. 1. 1. 1. 1. 1. 1. 1. 1.]\n"
          ],
          "name": "stdout"
        }
      ]
    },
    {
      "cell_type": "markdown",
      "metadata": {
        "id": "Kfu5pWDH1iYq"
      },
      "source": [
        "### Numpy Operations\n"
      ]
    },
    {
      "cell_type": "code",
      "metadata": {
        "id": "6jGh356F2Qhc",
        "outputId": "9ed30788-fd72-4bcf-d122-b234b7ac8549",
        "colab": {
          "base_uri": "https://localhost:8080/"
        }
      },
      "source": [
        "a = np.random.rand(2, 3)\n",
        "print(a)\n",
        "\n",
        "print(a.sum()) # summing up all values\n",
        "\n",
        "print(a.min()) # get the minimum value in a\n",
        "\n",
        "print(a.max()) # get the maximum value in a\n",
        "\n",
        "print(a.cumsum(axis=1)) # cumulative summation"
      ],
      "execution_count": null,
      "outputs": [
        {
          "output_type": "stream",
          "text": [
            "[[0.27357966 0.24643089 0.68977172]\n",
            " [0.45654504 0.0739983  0.08327903]]\n",
            "1.8236046258719252\n",
            "0.07399829630033228\n",
            "0.6897717199887647\n",
            "[[0.27357966 0.52001054 1.20978226]\n",
            " [0.45654504 0.53054333 0.61382236]]\n"
          ],
          "name": "stdout"
        }
      ]
    },
    {
      "cell_type": "code",
      "metadata": {
        "id": "-havDvCZ2Q7E",
        "outputId": "ae853684-21a8-47f8-d99d-4c6d938225ec",
        "colab": {
          "base_uri": "https://localhost:8080/"
        }
      },
      "source": [
        "# Try printing and see the results\n",
        "b = np.arange(5)\n",
        "print(b)\n",
        "print(np.exp(b))\n",
        "print(b ** 2) # np.square(b)\n",
        "print(np.sqrt(b))\n",
        "print()\n",
        "\n",
        "c = np.array([-1, 0, -1, 0, -1])\n",
        "print(b + c)\n",
        "print(b * c)\n",
        "\n",
        "# this is element wise multiplication!\n",
        "print(np.multiply(b, c))\n",
        "print()\n",
        "\n",
        "# if you want to multiplication between matrices, use np.matmul(A, B)\n",
        "d = np.array([4, 3, 2, 1, 0]).reshape(5, 1)\n",
        "print(np.matmul(b, d))"
      ],
      "execution_count": null,
      "outputs": [
        {
          "output_type": "stream",
          "text": [
            "[0 1 2 3 4]\n",
            "[ 1.          2.71828183  7.3890561  20.08553692 54.59815003]\n",
            "[ 0  1  4  9 16]\n",
            "[0.         1.         1.41421356 1.73205081 2.        ]\n",
            "\n",
            "[-1  1  1  3  3]\n",
            "[ 0  0 -2  0 -4]\n",
            "[ 0  0 -2  0 -4]\n",
            "\n",
            "[10]\n"
          ],
          "name": "stdout"
        }
      ]
    },
    {
      "cell_type": "markdown",
      "metadata": {
        "id": "y4m5PPdp2RGo"
      },
      "source": [
        "### Indexing and iterating"
      ]
    },
    {
      "cell_type": "code",
      "metadata": {
        "id": "prvgJixa2VAl",
        "outputId": "ffea341f-0ea3-4db2-dfe3-01fe0b1f9d52",
        "colab": {
          "base_uri": "https://localhost:8080/"
        }
      },
      "source": [
        "a = np.arange(16)\n",
        "print(a)\n",
        "print(a[1:16:4])\n",
        "print('*'*100)\n",
        "\n",
        "a = a.reshape(4, 2, 2)\n",
        "print(a)\n",
        "print('*'*100)\n",
        "\n",
        "idx_list = [1, 3]\n",
        "print(a[idx_list])\n",
        "print('*'*100)\n",
        "\n",
        "for slices in a:\n",
        "    print(slices)\n",
        "    print(slices.shape)\n",
        "    print()\n",
        "print('*'*100)\n",
        "\n",
        "for element in a.flatten():\n",
        "    print(element)"
      ],
      "execution_count": null,
      "outputs": [
        {
          "output_type": "stream",
          "text": [
            "[ 0  1  2  3  4  5  6  7  8  9 10 11 12 13 14 15]\n",
            "[ 1  5  9 13]\n",
            "****************************************************************************************************\n",
            "[[[ 0  1]\n",
            "  [ 2  3]]\n",
            "\n",
            " [[ 4  5]\n",
            "  [ 6  7]]\n",
            "\n",
            " [[ 8  9]\n",
            "  [10 11]]\n",
            "\n",
            " [[12 13]\n",
            "  [14 15]]]\n",
            "****************************************************************************************************\n",
            "[[[ 4  5]\n",
            "  [ 6  7]]\n",
            "\n",
            " [[12 13]\n",
            "  [14 15]]]\n",
            "****************************************************************************************************\n",
            "[[0 1]\n",
            " [2 3]]\n",
            "(2, 2)\n",
            "\n",
            "[[4 5]\n",
            " [6 7]]\n",
            "(2, 2)\n",
            "\n",
            "[[ 8  9]\n",
            " [10 11]]\n",
            "(2, 2)\n",
            "\n",
            "[[12 13]\n",
            " [14 15]]\n",
            "(2, 2)\n",
            "\n",
            "****************************************************************************************************\n",
            "0\n",
            "1\n",
            "2\n",
            "3\n",
            "4\n",
            "5\n",
            "6\n",
            "7\n",
            "8\n",
            "9\n",
            "10\n",
            "11\n",
            "12\n",
            "13\n",
            "14\n",
            "15\n"
          ],
          "name": "stdout"
        }
      ]
    },
    {
      "cell_type": "markdown",
      "metadata": {
        "id": "_GdvgBsh_HEl"
      },
      "source": [
        "### Stacking arrays"
      ]
    },
    {
      "cell_type": "code",
      "metadata": {
        "id": "vQ00-f5z-fQz",
        "outputId": "28ec3521-7eb5-4998-96e2-1b9c0077ebb8",
        "colab": {
          "base_uri": "https://localhost:8080/"
        }
      },
      "source": [
        "a = np.array([1, 2])\n",
        "b = np.array([3, 4])\n",
        "\n",
        "print(np.hstack((a, b)))            # horizontal stack\n",
        "print(np.vstack((a, b)))            # vertical stack\n",
        "print(np.concatenate([a[:, np.newaxis], b[:, np.newaxis]], axis=1)) # more general stack\n",
        "print(a[:, np.newaxis])\n",
        "print(a.shape)\n",
        "print(a[:,np.newaxis].shape)"
      ],
      "execution_count": 9,
      "outputs": [
        {
          "output_type": "stream",
          "text": [
            "[1 2 3 4]\n",
            "[[1 2]\n",
            " [3 4]]\n",
            "[[1 3]\n",
            " [2 4]]\n",
            "[[1]\n",
            " [2]]\n",
            "(2,)\n",
            "(2, 1)\n"
          ],
          "name": "stdout"
        }
      ]
    },
    {
      "cell_type": "code",
      "metadata": {
        "id": "utk-vVzhDITz",
        "outputId": "126f7cee-4173-4631-86d0-10bce4309553",
        "colab": {
          "base_uri": "https://localhost:8080/"
        }
      },
      "source": [
        "a = np.arange(4).reshape(2, 2)\n",
        "print(a)\n",
        "print()\n",
        "\n",
        "b = np.arange(4, 8).reshape(2, 2)\n",
        "print(b)\n",
        "print()\n",
        "\n",
        "print(np.hstack((a, b))) # horizontal stack\n",
        "print()\n",
        "\n",
        "print(np.vstack((a, b))) # vertical stack\n",
        "print()\n",
        "\n",
        "c = np.concatenate([a[np.newaxis, :, :], b[np.newaxis, :, :]], axis=0) # more general stack\n",
        "print(c.shape)\n",
        "print(c) "
      ],
      "execution_count": 10,
      "outputs": [
        {
          "output_type": "stream",
          "text": [
            "[[0 1]\n",
            " [2 3]]\n",
            "\n",
            "[[4 5]\n",
            " [6 7]]\n",
            "\n",
            "[[0 1 4 5]\n",
            " [2 3 6 7]]\n",
            "\n",
            "[[0 1]\n",
            " [2 3]\n",
            " [4 5]\n",
            " [6 7]]\n",
            "\n",
            "(2, 2, 2)\n",
            "[[[0 1]\n",
            "  [2 3]]\n",
            "\n",
            " [[4 5]\n",
            "  [6 7]]]\n"
          ],
          "name": "stdout"
        }
      ]
    },
    {
      "cell_type": "markdown",
      "metadata": {
        "id": "piZCtRvv2VMi"
      },
      "source": [
        "### Watch out for the copy-by-value and copy-by-reference"
      ]
    },
    {
      "cell_type": "code",
      "metadata": {
        "id": "AEz1nYuCAZKY",
        "outputId": "ec37904d-cd1f-4948-e8c6-738560bfdd00",
        "colab": {
          "base_uri": "https://localhost:8080/"
        }
      },
      "source": [
        "a = np.arange(12).reshape(3, 4)\n",
        "b = np.arange(12, 24).reshape(3, 4)\n",
        "print(a)\n",
        "print(b)\n",
        "\n",
        "c = a               # Nothing is created.\n",
        " \n",
        "print(c is a)      # They are same array! c and a are two names of same array. 'is'  for checking reference.\n",
        "\n",
        "a[0, 0] = 200\n",
        "print(c)\n",
        "\n",
        "a[0, 0] = 0\n",
        "d = a+b              # This copies value of a and b! Things change when 'operation' is performed.\n",
        "print(d is a+b)     # They are not same array! Address is different.\n",
        "a[0, 0] = -100     # \n",
        "print(a+b)  \n",
        "print(d)                # d is not changed\n",
        "print(c)                # c is changed, because it is the another 'name' of same array"
      ],
      "execution_count": 11,
      "outputs": [
        {
          "output_type": "stream",
          "text": [
            "[[ 0  1  2  3]\n",
            " [ 4  5  6  7]\n",
            " [ 8  9 10 11]]\n",
            "[[12 13 14 15]\n",
            " [16 17 18 19]\n",
            " [20 21 22 23]]\n",
            "True\n",
            "[[200   1   2   3]\n",
            " [  4   5   6   7]\n",
            " [  8   9  10  11]]\n",
            "False\n",
            "[[-88  14  16  18]\n",
            " [ 20  22  24  26]\n",
            " [ 28  30  32  34]]\n",
            "[[12 14 16 18]\n",
            " [20 22 24 26]\n",
            " [28 30 32 34]]\n",
            "[[-100    1    2    3]\n",
            " [   4    5    6    7]\n",
            " [   8    9   10   11]]\n"
          ],
          "name": "stdout"
        }
      ]
    },
    {
      "cell_type": "code",
      "metadata": {
        "id": "PBTWPlSoAZRi",
        "outputId": "30057807-8920-4dd2-9c07-d073abd291e8",
        "colab": {
          "base_uri": "https://localhost:8080/"
        }
      },
      "source": [
        "def f(x):\n",
        "    return(id(x))\n",
        "## Python function calls numpy array by reference\n",
        "\n",
        "print(id(a))\n",
        "print(f(a))\n",
        "print(f(c))"
      ],
      "execution_count": 13,
      "outputs": [
        {
          "output_type": "stream",
          "text": [
            "139657238789216\n",
            "139657238789216\n",
            "139657238789216\n"
          ],
          "name": "stdout"
        }
      ]
    },
    {
      "cell_type": "code",
      "metadata": {
        "id": "v_lRA7plAZY8",
        "outputId": "583cf7fc-d340-4411-c19a-856c6f1d8050",
        "colab": {
          "base_uri": "https://localhost:8080/"
        }
      },
      "source": [
        "def adding_one(a):\n",
        "    print(id(a))\n",
        "    a = a+1             #  a+1 is evaluated first, and creates a new array. and 'a' in here is the local variable!!!\n",
        "    print(a)\n",
        "    # a +=1             # This is done by python's special method called __iadd__, which modify the array referenced by arr in-place !!!\n",
        "\n",
        "## Python function calls numpy array by reference\n",
        "## But the operation can / cannot change the real value (depends on what you do)\n",
        "## Always check these things carefully.\n",
        "\n",
        "a = np.arange(10)\n",
        "print(id(a))\n",
        "print(a)\n",
        "\n",
        "adding_one(a)\n",
        "print(a)"
      ],
      "execution_count": 14,
      "outputs": [
        {
          "output_type": "stream",
          "text": [
            "139657238789136\n",
            "[0 1 2 3 4 5 6 7 8 9]\n",
            "139657238789136\n",
            "[ 1  2  3  4  5  6  7  8  9 10]\n",
            "[0 1 2 3 4 5 6 7 8 9]\n"
          ],
          "name": "stdout"
        }
      ]
    },
    {
      "cell_type": "code",
      "metadata": {
        "id": "ehTaZbvFrd0O"
      },
      "source": [
        ""
      ],
      "execution_count": null,
      "outputs": []
    }
  ]
}
