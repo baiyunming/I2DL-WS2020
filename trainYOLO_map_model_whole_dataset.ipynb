{
  "nbformat": 4,
  "nbformat_minor": 0,
  "metadata": {
    "colab": {
      "name": "trainYOLO.ipynb",
      "provenance": [],
      "authorship_tag": "ABX9TyMqy7vbQ6/YyuHdXqw3PTSc",
      "include_colab_link": true
    },
    "kernelspec": {
      "name": "python3",
      "display_name": "Python 3"
    },
    "widgets": {
      "application/vnd.jupyter.widget-state+json": {
        "e272e820d84c4d20921c7d929345c377": {
          "model_module": "@jupyter-widgets/controls",
          "model_name": "HBoxModel",
          "state": {
            "_view_name": "HBoxView",
            "_dom_classes": [],
            "_model_name": "HBoxModel",
            "_view_module": "@jupyter-widgets/controls",
            "_model_module_version": "1.5.0",
            "_view_count": null,
            "_view_module_version": "1.5.0",
            "box_style": "",
            "layout": "IPY_MODEL_2f04380c342e4cddac69b1d4e8bcaf5b",
            "_model_module": "@jupyter-widgets/controls",
            "children": [
              "IPY_MODEL_9d2f710c7b9742b48c33718c42924cd1",
              "IPY_MODEL_824e6e88fd684b61ba458cb9dd546a65"
            ]
          }
        },
        "2f04380c342e4cddac69b1d4e8bcaf5b": {
          "model_module": "@jupyter-widgets/base",
          "model_name": "LayoutModel",
          "state": {
            "_view_name": "LayoutView",
            "grid_template_rows": null,
            "right": null,
            "justify_content": null,
            "_view_module": "@jupyter-widgets/base",
            "overflow": null,
            "_model_module_version": "1.2.0",
            "_view_count": null,
            "flex_flow": null,
            "width": null,
            "min_width": null,
            "border": null,
            "align_items": null,
            "bottom": null,
            "_model_module": "@jupyter-widgets/base",
            "top": null,
            "grid_column": null,
            "overflow_y": null,
            "overflow_x": null,
            "grid_auto_flow": null,
            "grid_area": null,
            "grid_template_columns": null,
            "flex": null,
            "_model_name": "LayoutModel",
            "justify_items": null,
            "grid_row": null,
            "max_height": null,
            "align_content": null,
            "visibility": null,
            "align_self": null,
            "height": null,
            "min_height": null,
            "padding": null,
            "grid_auto_rows": null,
            "grid_gap": null,
            "max_width": null,
            "order": null,
            "_view_module_version": "1.2.0",
            "grid_template_areas": null,
            "object_position": null,
            "object_fit": null,
            "grid_auto_columns": null,
            "margin": null,
            "display": null,
            "left": null
          }
        },
        "9d2f710c7b9742b48c33718c42924cd1": {
          "model_module": "@jupyter-widgets/controls",
          "model_name": "FloatProgressModel",
          "state": {
            "_view_name": "ProgressView",
            "style": "IPY_MODEL_76af4f5007e64f5e855af2d0cf93af9b",
            "_dom_classes": [],
            "description": "100%",
            "_model_name": "FloatProgressModel",
            "bar_style": "success",
            "max": 102502400,
            "_view_module": "@jupyter-widgets/controls",
            "_model_module_version": "1.5.0",
            "value": 102502400,
            "_view_count": null,
            "_view_module_version": "1.5.0",
            "orientation": "horizontal",
            "min": 0,
            "description_tooltip": null,
            "_model_module": "@jupyter-widgets/controls",
            "layout": "IPY_MODEL_8c5f8e8961cf4b96ad082a9f1b76df72"
          }
        },
        "824e6e88fd684b61ba458cb9dd546a65": {
          "model_module": "@jupyter-widgets/controls",
          "model_name": "HTMLModel",
          "state": {
            "_view_name": "HTMLView",
            "style": "IPY_MODEL_1fea3f5ad0b14c079298234ee23c5a8e",
            "_dom_classes": [],
            "description": "",
            "_model_name": "HTMLModel",
            "placeholder": "​",
            "_view_module": "@jupyter-widgets/controls",
            "_model_module_version": "1.5.0",
            "value": " 97.8M/97.8M [01:09&lt;00:00, 1.48MB/s]",
            "_view_count": null,
            "_view_module_version": "1.5.0",
            "description_tooltip": null,
            "_model_module": "@jupyter-widgets/controls",
            "layout": "IPY_MODEL_a8f924c63c884c33ac39c36b23a753f0"
          }
        },
        "76af4f5007e64f5e855af2d0cf93af9b": {
          "model_module": "@jupyter-widgets/controls",
          "model_name": "ProgressStyleModel",
          "state": {
            "_view_name": "StyleView",
            "_model_name": "ProgressStyleModel",
            "description_width": "initial",
            "_view_module": "@jupyter-widgets/base",
            "_model_module_version": "1.5.0",
            "_view_count": null,
            "_view_module_version": "1.2.0",
            "bar_color": null,
            "_model_module": "@jupyter-widgets/controls"
          }
        },
        "8c5f8e8961cf4b96ad082a9f1b76df72": {
          "model_module": "@jupyter-widgets/base",
          "model_name": "LayoutModel",
          "state": {
            "_view_name": "LayoutView",
            "grid_template_rows": null,
            "right": null,
            "justify_content": null,
            "_view_module": "@jupyter-widgets/base",
            "overflow": null,
            "_model_module_version": "1.2.0",
            "_view_count": null,
            "flex_flow": null,
            "width": null,
            "min_width": null,
            "border": null,
            "align_items": null,
            "bottom": null,
            "_model_module": "@jupyter-widgets/base",
            "top": null,
            "grid_column": null,
            "overflow_y": null,
            "overflow_x": null,
            "grid_auto_flow": null,
            "grid_area": null,
            "grid_template_columns": null,
            "flex": null,
            "_model_name": "LayoutModel",
            "justify_items": null,
            "grid_row": null,
            "max_height": null,
            "align_content": null,
            "visibility": null,
            "align_self": null,
            "height": null,
            "min_height": null,
            "padding": null,
            "grid_auto_rows": null,
            "grid_gap": null,
            "max_width": null,
            "order": null,
            "_view_module_version": "1.2.0",
            "grid_template_areas": null,
            "object_position": null,
            "object_fit": null,
            "grid_auto_columns": null,
            "margin": null,
            "display": null,
            "left": null
          }
        },
        "1fea3f5ad0b14c079298234ee23c5a8e": {
          "model_module": "@jupyter-widgets/controls",
          "model_name": "DescriptionStyleModel",
          "state": {
            "_view_name": "StyleView",
            "_model_name": "DescriptionStyleModel",
            "description_width": "",
            "_view_module": "@jupyter-widgets/base",
            "_model_module_version": "1.5.0",
            "_view_count": null,
            "_view_module_version": "1.2.0",
            "_model_module": "@jupyter-widgets/controls"
          }
        },
        "a8f924c63c884c33ac39c36b23a753f0": {
          "model_module": "@jupyter-widgets/base",
          "model_name": "LayoutModel",
          "state": {
            "_view_name": "LayoutView",
            "grid_template_rows": null,
            "right": null,
            "justify_content": null,
            "_view_module": "@jupyter-widgets/base",
            "overflow": null,
            "_model_module_version": "1.2.0",
            "_view_count": null,
            "flex_flow": null,
            "width": null,
            "min_width": null,
            "border": null,
            "align_items": null,
            "bottom": null,
            "_model_module": "@jupyter-widgets/base",
            "top": null,
            "grid_column": null,
            "overflow_y": null,
            "overflow_x": null,
            "grid_auto_flow": null,
            "grid_area": null,
            "grid_template_columns": null,
            "flex": null,
            "_model_name": "LayoutModel",
            "justify_items": null,
            "grid_row": null,
            "max_height": null,
            "align_content": null,
            "visibility": null,
            "align_self": null,
            "height": null,
            "min_height": null,
            "padding": null,
            "grid_auto_rows": null,
            "grid_gap": null,
            "max_width": null,
            "order": null,
            "_view_module_version": "1.2.0",
            "grid_template_areas": null,
            "object_position": null,
            "object_fit": null,
            "grid_auto_columns": null,
            "margin": null,
            "display": null,
            "left": null
          }
        }
      }
    },
    "accelerator": "GPU"
  },
  "cells": [
    {
      "cell_type": "markdown",
      "metadata": {
        "id": "view-in-github",
        "colab_type": "text"
      },
      "source": [
        "<a href=\"https://colab.research.google.com/github/baiyunming/I2DL-WS2020/blob/main/trainYOLO_map_model_whole_dataset.ipynb\" target=\"_parent\"><img src=\"https://colab.research.google.com/assets/colab-badge.svg\" alt=\"Open In Colab\"/></a>"
      ]
    },
    {
      "cell_type": "code",
      "metadata": {
        "id": "czfBGCmapxku"
      },
      "source": [
        "import os\r\n",
        "import torch\r\n",
        "from google.colab import drive\r\n",
        "from torch.utils.data import DataLoader"
      ],
      "execution_count": 1,
      "outputs": []
    },
    {
      "cell_type": "code",
      "metadata": {
        "colab": {
          "base_uri": "https://localhost:8080/"
        },
        "id": "0hCwrujrqQGg",
        "outputId": "ad8caa1b-8e7d-4208-b054-40101f420acb"
      },
      "source": [
        "drive.mount('/content/drive')"
      ],
      "execution_count": 2,
      "outputs": [
        {
          "output_type": "stream",
          "text": [
            "Mounted at /content/drive\n"
          ],
          "name": "stdout"
        }
      ]
    },
    {
      "cell_type": "code",
      "metadata": {
        "colab": {
          "base_uri": "https://localhost:8080/"
        },
        "id": "Lxzbc7pOqRSX",
        "outputId": "2dfca2c3-34a7-4e63-b824-5bcb73319f82"
      },
      "source": [
        "ls"
      ],
      "execution_count": 3,
      "outputs": [
        {
          "output_type": "stream",
          "text": [
            "\u001b[0m\u001b[01;34mdrive\u001b[0m/  \u001b[01;34msample_data\u001b[0m/\n"
          ],
          "name": "stdout"
        }
      ]
    },
    {
      "cell_type": "code",
      "metadata": {
        "colab": {
          "base_uri": "https://localhost:8080/"
        },
        "id": "RESv0m1ZqYYL",
        "outputId": "d77fbc4b-b152-4726-ef63-805514f578c8"
      },
      "source": [
        "%cd drive/MyDrive/ObjectDetection/"
      ],
      "execution_count": 4,
      "outputs": [
        {
          "output_type": "stream",
          "text": [
            "/content/drive/MyDrive/ObjectDetection\n"
          ],
          "name": "stdout"
        }
      ]
    },
    {
      "cell_type": "code",
      "metadata": {
        "id": "VNVxi0_Oqetz"
      },
      "source": [
        "from model import YOLO_Resnet\r\n",
        "from loss import YoloLoss\r\n",
        "from animal_dataset import AnimalDataset"
      ],
      "execution_count": 5,
      "outputs": []
    },
    {
      "cell_type": "code",
      "metadata": {
        "id": "t1b8n2OsqtTY"
      },
      "source": [
        "train_dataset = AnimalDataset(\"/content/drive/MyDrive/ObjectDetection/animal_dataset/train.csv\")"
      ],
      "execution_count": 6,
      "outputs": []
    },
    {
      "cell_type": "code",
      "metadata": {
        "colab": {
          "base_uri": "https://localhost:8080/"
        },
        "id": "hwDbUnBvqy_A",
        "outputId": "2d2e4ec1-407c-4667-f70d-5d0db39d012a"
      },
      "source": [
        "batch_size = 64\r\n",
        "train_dataloader = DataLoader(train_dataset, batch_size=batch_size, shuffle=True)\r\n",
        "img, label = next(iter(train_dataloader))\r\n",
        "print(img.shape)\r\n",
        "print(label.shape)"
      ],
      "execution_count": 7,
      "outputs": [
        {
          "output_type": "stream",
          "text": [
            "torch.Size([64, 3, 224, 224])\n",
            "torch.Size([64, 5, 5, 14])\n"
          ],
          "name": "stdout"
        }
      ]
    },
    {
      "cell_type": "code",
      "metadata": {
        "colab": {
          "base_uri": "https://localhost:8080/",
          "height": 82,
          "referenced_widgets": [
            "e272e820d84c4d20921c7d929345c377",
            "2f04380c342e4cddac69b1d4e8bcaf5b",
            "9d2f710c7b9742b48c33718c42924cd1",
            "824e6e88fd684b61ba458cb9dd546a65",
            "76af4f5007e64f5e855af2d0cf93af9b",
            "8c5f8e8961cf4b96ad082a9f1b76df72",
            "1fea3f5ad0b14c079298234ee23c5a8e",
            "a8f924c63c884c33ac39c36b23a753f0"
          ]
        },
        "id": "3sxGyeuQqzfJ",
        "outputId": "fbe74638-cc11-4f45-a21c-4364f0e48d4c"
      },
      "source": [
        "device = \"cuda\" if torch.cuda.is_available() else \"cpu\"\r\n",
        "model = YOLO_Resnet().to(device)"
      ],
      "execution_count": 8,
      "outputs": [
        {
          "output_type": "stream",
          "text": [
            "Downloading: \"https://download.pytorch.org/models/resnet50-19c8e357.pth\" to /root/.cache/torch/hub/checkpoints/resnet50-19c8e357.pth\n"
          ],
          "name": "stderr"
        },
        {
          "output_type": "display_data",
          "data": {
            "application/vnd.jupyter.widget-view+json": {
              "model_id": "e272e820d84c4d20921c7d929345c377",
              "version_minor": 0,
              "version_major": 2
            },
            "text/plain": [
              "HBox(children=(FloatProgress(value=0.0, max=102502400.0), HTML(value='')))"
            ]
          },
          "metadata": {
            "tags": []
          }
        },
        {
          "output_type": "stream",
          "text": [
            "\n"
          ],
          "name": "stdout"
        }
      ]
    },
    {
      "cell_type": "code",
      "metadata": {
        "id": "zQ9d78gbrabT"
      },
      "source": [
        "prediction = model(img.to(device))"
      ],
      "execution_count": 9,
      "outputs": []
    },
    {
      "cell_type": "code",
      "metadata": {
        "colab": {
          "base_uri": "https://localhost:8080/"
        },
        "id": "5qRd6uTgPYRV",
        "outputId": "cbd02d9a-9a8a-4a0c-ed0e-350f211d7ce2"
      },
      "source": [
        "prediction.shape"
      ],
      "execution_count": 10,
      "outputs": [
        {
          "output_type": "execute_result",
          "data": {
            "text/plain": [
              "torch.Size([64, 350])"
            ]
          },
          "metadata": {
            "tags": []
          },
          "execution_count": 10
        }
      ]
    },
    {
      "cell_type": "code",
      "metadata": {
        "id": "aVb0n5aLr1rp"
      },
      "source": [
        "loss = YoloLoss()"
      ],
      "execution_count": 11,
      "outputs": []
    },
    {
      "cell_type": "code",
      "metadata": {
        "id": "rqd7c9nvsHYL",
        "colab": {
          "base_uri": "https://localhost:8080/"
        },
        "outputId": "e0cf8ec1-fe60-4b0a-ff41-3109619d8f84"
      },
      "source": [
        "m = loss(prediction, label.to(device))\r\n",
        "print(m/64)"
      ],
      "execution_count": 12,
      "outputs": [
        {
          "output_type": "stream",
          "text": [
            "tensor(237.4242, device='cuda:0', grad_fn=<DivBackward0>)\n"
          ],
          "name": "stdout"
        }
      ]
    },
    {
      "cell_type": "code",
      "metadata": {
        "id": "NAqwQ-PZsUCX"
      },
      "source": [
        "import torch.optim as optim\r\n",
        "m.backward()\r\n",
        "optimizer = optim.Adam(model.parameters(), lr=2e-5)\r\n",
        "optimizer.step()\r\n"
      ],
      "execution_count": 13,
      "outputs": []
    },
    {
      "cell_type": "code",
      "metadata": {
        "colab": {
          "base_uri": "https://localhost:8080/"
        },
        "id": "GFzh1-ZssuW0",
        "outputId": "0819e322-8984-450a-dd7e-f206b76ee142"
      },
      "source": [
        "prediction_new = model(img.to(device)) \r\n",
        "m = loss(prediction_new, label.to(device))\r\n",
        "print(m/64)"
      ],
      "execution_count": 14,
      "outputs": [
        {
          "output_type": "stream",
          "text": [
            "tensor(200.6017, device='cuda:0', grad_fn=<DivBackward0>)\n"
          ],
          "name": "stdout"
        }
      ]
    },
    {
      "cell_type": "code",
      "metadata": {
        "id": "ZNDhpQItsy25",
        "colab": {
          "base_uri": "https://localhost:8080/"
        },
        "outputId": "d5e25cdb-df5f-43e7-9795-a36a894b3138"
      },
      "source": [
        "prediction_new.shape "
      ],
      "execution_count": 16,
      "outputs": [
        {
          "output_type": "execute_result",
          "data": {
            "text/plain": [
              "torch.Size([64, 350])"
            ]
          },
          "metadata": {
            "tags": []
          },
          "execution_count": 16
        }
      ]
    },
    {
      "cell_type": "code",
      "metadata": {
        "id": "jHRqMAGEQ_3e"
      },
      "source": [
        "pred_box1 = prediction[...,5:9]\r\n",
        "pred_box2 = prediction[...,10:14]"
      ],
      "execution_count": 41,
      "outputs": []
    },
    {
      "cell_type": "code",
      "metadata": {
        "colab": {
          "base_uri": "https://localhost:8080/"
        },
        "id": "gaQz-fo0WiZW",
        "outputId": "6798ce30-e3bf-4bee-87ab-ac2b0c6048e1"
      },
      "source": [
        "pred_box1.shape"
      ],
      "execution_count": 107,
      "outputs": [
        {
          "output_type": "execute_result",
          "data": {
            "text/plain": [
              "torch.Size([64, 5, 5, 4])"
            ]
          },
          "metadata": {
            "tags": []
          },
          "execution_count": 107
        }
      ]
    },
    {
      "cell_type": "code",
      "metadata": {
        "id": "zt23dPLIRUW_"
      },
      "source": [
        "cat_result = torch.cat([(prediction[...,4]).unsqueeze(0), prediction[...,9].unsqueeze(0)],dim=0)"
      ],
      "execution_count": 45,
      "outputs": []
    },
    {
      "cell_type": "code",
      "metadata": {
        "id": "aGD5B5hmRhUy"
      },
      "source": [
        "box_high_score = cat_result.argmax(0).unsqueeze(-1)"
      ],
      "execution_count": 51,
      "outputs": []
    },
    {
      "cell_type": "code",
      "metadata": {
        "colab": {
          "base_uri": "https://localhost:8080/"
        },
        "id": "NCDUQUuLSJLc",
        "outputId": "dbf7e04f-6b64-4719-8fd3-8fd43899855e"
      },
      "source": [
        "box_high_score.shape #if zero first box has higher confidence, if one second box has higher confidence"
      ],
      "execution_count": 52,
      "outputs": [
        {
          "output_type": "execute_result",
          "data": {
            "text/plain": [
              "torch.Size([64, 5, 5, 1])"
            ]
          },
          "metadata": {
            "tags": []
          },
          "execution_count": 52
        }
      ]
    },
    {
      "cell_type": "code",
      "metadata": {
        "id": "5Xafk_q2SYki"
      },
      "source": [
        "final_box =(1-box_high_score) * pred_box1 + box_high_score * pred_box2"
      ],
      "execution_count": 54,
      "outputs": []
    },
    {
      "cell_type": "code",
      "metadata": {
        "colab": {
          "base_uri": "https://localhost:8080/"
        },
        "id": "ro7ibkZrSy7G",
        "outputId": "c6914fbd-43fc-4d7c-85e2-e2734c4d94ad"
      },
      "source": [
        "final_box.shape"
      ],
      "execution_count": 57,
      "outputs": [
        {
          "output_type": "execute_result",
          "data": {
            "text/plain": [
              "torch.Size([64, 5, 5, 4])"
            ]
          },
          "metadata": {
            "tags": []
          },
          "execution_count": 57
        }
      ]
    },
    {
      "cell_type": "code",
      "metadata": {
        "id": "H4n45wvBS333"
      },
      "source": [
        "#convert x, y width, height of box w.r.t. whole image\r\n",
        "S = 5 \r\n",
        "idx_x = torch.arange(S).repeat(batch_size,S,1)"
      ],
      "execution_count": 99,
      "outputs": []
    },
    {
      "cell_type": "code",
      "metadata": {
        "id": "72Na4A60UjRf"
      },
      "source": [
        "idx_y = torch.arange(S).unsqueeze(-1).repeat(batch_size,1,S)"
      ],
      "execution_count": 100,
      "outputs": []
    },
    {
      "cell_type": "code",
      "metadata": {
        "colab": {
          "base_uri": "https://localhost:8080/"
        },
        "id": "gFk6YLaQVRY-",
        "outputId": "7d42cc07-906e-477c-835b-94d81244d4af"
      },
      "source": [
        "idx_y[1,:,:]"
      ],
      "execution_count": 101,
      "outputs": [
        {
          "output_type": "execute_result",
          "data": {
            "text/plain": [
              "tensor([[0, 0, 0, 0, 0],\n",
              "        [1, 1, 1, 1, 1],\n",
              "        [2, 2, 2, 2, 2],\n",
              "        [3, 3, 3, 3, 3],\n",
              "        [4, 4, 4, 4, 4]])"
            ]
          },
          "metadata": {
            "tags": []
          },
          "execution_count": 101
        }
      ]
    },
    {
      "cell_type": "code",
      "metadata": {
        "colab": {
          "base_uri": "https://localhost:8080/"
        },
        "id": "zHKW_LKIVgRd",
        "outputId": "324d3072-0c2c-4296-c9a1-4e27ce2ff6d4"
      },
      "source": [
        "idx_x[1,:,:]"
      ],
      "execution_count": 103,
      "outputs": [
        {
          "output_type": "execute_result",
          "data": {
            "text/plain": [
              "tensor([[0, 1, 2, 3, 4],\n",
              "        [0, 1, 2, 3, 4],\n",
              "        [0, 1, 2, 3, 4],\n",
              "        [0, 1, 2, 3, 4],\n",
              "        [0, 1, 2, 3, 4]])"
            ]
          },
          "metadata": {
            "tags": []
          },
          "execution_count": 103
        }
      ]
    },
    {
      "cell_type": "code",
      "metadata": {
        "id": "kD5UTcy-TPV-"
      },
      "source": [
        "# dim: batch_size * S * S * 1 \r\n",
        "x_wrt_image = (1/S) * (final_box[...,0:1] + idx_x.unsqueeze(-1)) \r\n",
        "y_wrt_image = (1/S) * (final_box[...,1:2] + idx_y.unsqueeze(-1)) \r\n",
        "width_wrt_image = (1/S) * final_box[...,2:3]\r\n",
        "height_wrt_image = (1/S) * final_box[...,3:4]\r\n",
        "clss_label = prediction[...,0:4].argmax(-1).unsqueeze(-1) #get class label\r\n",
        "confidence = torch.max(prediction[...,4], prediction[...,9]).unsqueeze(-1)"
      ],
      "execution_count": 129,
      "outputs": []
    },
    {
      "cell_type": "code",
      "metadata": {
        "colab": {
          "base_uri": "https://localhost:8080/"
        },
        "id": "ftN9wBr-WWz3",
        "outputId": "21bbef4f-5d62-48fc-cf1e-46e63214f588"
      },
      "source": [
        "y_wrt_image.shape"
      ],
      "execution_count": 118,
      "outputs": [
        {
          "output_type": "execute_result",
          "data": {
            "text/plain": [
              "torch.Size([64, 5, 5, 1])"
            ]
          },
          "metadata": {
            "tags": []
          },
          "execution_count": 118
        }
      ]
    },
    {
      "cell_type": "code",
      "metadata": {
        "colab": {
          "base_uri": "https://localhost:8080/"
        },
        "id": "Dd01OaJwYEFK",
        "outputId": "125c6768-8ce9-43fc-b62d-fb42155e2e0b"
      },
      "source": [
        "torch.max(prediction[...,4], prediction[...,9]).shape"
      ],
      "execution_count": 126,
      "outputs": [
        {
          "output_type": "execute_result",
          "data": {
            "text/plain": [
              "torch.Size([64, 5, 5])"
            ]
          },
          "metadata": {
            "tags": []
          },
          "execution_count": 126
        }
      ]
    },
    {
      "cell_type": "code",
      "metadata": {
        "id": "Di1AXzkkaOSW"
      },
      "source": [
        "#batch_size * S * S * 6 (class, confidence, box_wrt_image)\r\n",
        "conerted_box = torch.cat([clss_label, confidence, x_wrt_image, y_wrt_image, width_wrt_image, height_wrt_image],dim=-1)"
      ],
      "execution_count": 173,
      "outputs": []
    },
    {
      "cell_type": "code",
      "metadata": {
        "colab": {
          "base_uri": "https://localhost:8080/"
        },
        "id": "_9NpJf9ia4mi",
        "outputId": "61f128b6-af78-4dfc-e7a3-7214720bc092"
      },
      "source": [
        "conerted_box.shape"
      ],
      "execution_count": 175,
      "outputs": [
        {
          "output_type": "execute_result",
          "data": {
            "text/plain": [
              "torch.Size([64, 5, 5, 6])"
            ]
          },
          "metadata": {
            "tags": []
          },
          "execution_count": 175
        }
      ]
    },
    {
      "cell_type": "code",
      "metadata": {
        "colab": {
          "base_uri": "https://localhost:8080/"
        },
        "id": "jdv8_G_TbICh",
        "outputId": "dfdb384c-49ee-4171-b1e5-c1a25e44ad6e"
      },
      "source": [
        "label[1,:,:,10] #first sample, 5*5, 10th element"
      ],
      "execution_count": 161,
      "outputs": [
        {
          "output_type": "execute_result",
          "data": {
            "text/plain": [
              "tensor([[0., 0., 0., 0., 0.],\n",
              "        [0., 0., 0., 0., 0.],\n",
              "        [0., 0., 0., 0., 0.],\n",
              "        [0., 0., 0., 0., 0.],\n",
              "        [0., 0., 0., 0., 0.]])"
            ]
          },
          "metadata": {
            "tags": []
          },
          "execution_count": 161
        }
      ]
    },
    {
      "cell_type": "code",
      "metadata": {
        "id": "9ruYfoyUbVmz"
      },
      "source": [
        "reshaped_box = conerted_box.reshape(batch_size, S*S, -1) #batch_size, S*S, 6 [class_idx, object_probability, x, y, w, h]"
      ],
      "execution_count": 176,
      "outputs": []
    },
    {
      "cell_type": "code",
      "metadata": {
        "colab": {
          "base_uri": "https://localhost:8080/"
        },
        "id": "oOO8UC9dejNI",
        "outputId": "6031bf40-0f60-4825-b292-4a5f15417037"
      },
      "source": [
        "reshaped_box.shape"
      ],
      "execution_count": 189,
      "outputs": [
        {
          "output_type": "execute_result",
          "data": {
            "text/plain": [
              "torch.Size([64, 25, 6])"
            ]
          },
          "metadata": {
            "tags": []
          },
          "execution_count": 189
        }
      ]
    },
    {
      "cell_type": "code",
      "metadata": {
        "colab": {
          "base_uri": "https://localhost:8080/"
        },
        "id": "AsV1p1TrelnY",
        "outputId": "40173040-cbd4-438a-b612-de85d6ad72ea"
      },
      "source": [
        "reshaped_box"
      ],
      "execution_count": 168,
      "outputs": [
        {
          "output_type": "execute_result",
          "data": {
            "text/plain": [
              "tensor([3])"
            ]
          },
          "metadata": {
            "tags": []
          },
          "execution_count": 168
        }
      ]
    },
    {
      "cell_type": "code",
      "metadata": {
        "id": "JqTWfOzXeoh9"
      },
      "source": [
        "boxes_batchs = []\r\n",
        "for i in range(batch_size):\r\n",
        "  boxes_frame = []\r\n",
        "  for j in range(S*S):\r\n",
        "    boxes_frame.append([x.item() for x in reshaped_box[i,j,:]])\r\n",
        "  boxes_batchs.append(boxes_frame)  \r\n"
      ],
      "execution_count": 221,
      "outputs": []
    },
    {
      "cell_type": "code",
      "metadata": {
        "id": "noVvkpQwiy9i"
      },
      "source": [
        "def get_list_boxes(prediction, S=5):\r\n",
        "  #prediction dim: batch_size * S * S * 14 （class_idx 4 + 5 * B=2）\r\n",
        "  #return list: batch_size * (S*S) \r\n",
        "  batch_size = prediction.shape[0]\r\n",
        "  prediction = prediction.to(\"cpu\")\r\n",
        "  prediction = prediction.reshape(prediction.shape[0], S, S, 14)\r\n",
        "  pred_box1 = prediction[...,5:9]\r\n",
        "  pred_box2 = prediction[...,10:14]\r\n",
        "\r\n",
        "  cat_result = torch.cat([(prediction[...,4]).unsqueeze(0), prediction[...,9].unsqueeze(0)],dim=0)\r\n",
        "  box_high_score = cat_result.argmax(0).unsqueeze(-1)\r\n",
        "  final_box =(1-box_high_score) * pred_box1 + box_high_score * pred_box2\r\n",
        "\r\n",
        "  idx_x = torch.arange(S).repeat(batch_size,S,1)\r\n",
        "  idx_y = torch.arange(S).unsqueeze(-1).repeat(batch_size,1,S)\r\n",
        "\r\n",
        "  # dim: batch_size * S * S * 1 \r\n",
        "  x_wrt_image = (1/S) * (final_box[...,0:1] + idx_x.unsqueeze(-1)) \r\n",
        "  y_wrt_image = (1/S) * (final_box[...,1:2] + idx_y.unsqueeze(-1)) \r\n",
        "  width_wrt_image = (1/S) * final_box[...,2:3]\r\n",
        "  height_wrt_image = (1/S) * final_box[...,3:4]\r\n",
        "  clss_label = prediction[...,0:4].argmax(-1).unsqueeze(-1) #get class label\r\n",
        "  confidence = torch.max(prediction[...,4], prediction[...,9]).unsqueeze(-1)\r\n",
        "\r\n",
        "  converted_box = torch.cat([clss_label, confidence, x_wrt_image, y_wrt_image, width_wrt_image, height_wrt_image],dim=-1)\r\n",
        "\r\n",
        "  reshaped_box = converted_box.reshape(batch_size, S*S, -1) #batch_size, S*S, 6 [class_idx, object_probability, x, y, w, h]\r\n",
        "  print(reshaped_box.shape)\r\n",
        "\r\n",
        "  boxes_batch = []\r\n",
        "  for i in range(batch_size):\r\n",
        "    boxes_frame = []\r\n",
        "    for j in range(S*S):\r\n",
        "      boxes_frame.append([x.item() for x in reshaped_box[i,j,:]])\r\n",
        "    boxes_batch.append(boxes_frame)\r\n",
        "\r\n",
        "  \r\n",
        "  return boxes_batch \r\n"
      ],
      "execution_count": 17,
      "outputs": []
    },
    {
      "cell_type": "code",
      "metadata": {
        "colab": {
          "base_uri": "https://localhost:8080/"
        },
        "id": "ScDyyEcllF-l",
        "outputId": "1c6f5ea4-8165-4ba8-e4a7-d73c1469ec67"
      },
      "source": [
        "mmm = get_list_boxes(prediction)"
      ],
      "execution_count": 215,
      "outputs": [
        {
          "output_type": "stream",
          "text": [
            "torch.Size([64, 25, 6])\n"
          ],
          "name": "stdout"
        }
      ]
    },
    {
      "cell_type": "code",
      "metadata": {
        "colab": {
          "base_uri": "https://localhost:8080/"
        },
        "id": "qNtVumb9lKFc",
        "outputId": "994dd7a6-6776-4fef-fb76-164719b4b491"
      },
      "source": [
        "prediction.shape"
      ],
      "execution_count": 225,
      "outputs": [
        {
          "output_type": "execute_result",
          "data": {
            "text/plain": [
              "torch.Size([64, 5, 5, 14])"
            ]
          },
          "metadata": {
            "tags": []
          },
          "execution_count": 225
        }
      ]
    },
    {
      "cell_type": "code",
      "metadata": {
        "colab": {
          "base_uri": "https://localhost:8080/"
        },
        "id": "X4rG3DFgobFG",
        "outputId": "e4901700-396f-4d34-8d21-8855f28d6d63"
      },
      "source": [
        "model.eval()\r\n",
        "all_predict_boxes = []\r\n",
        "all_true_boxes = []\r\n",
        "frame_idx = 0\r\n",
        "iou_threshold = 0.5\r\n",
        "confidence_threshold = 0.3\r\n",
        "\r\n",
        "\r\n",
        "for batch_idx, (image, labels) in enumerate(train_dataloader):\r\n",
        "  with torch.no_grad():\r\n",
        "    prediction = model(image.to(device))\r\n",
        "  \r\n",
        "  predict_boxes_batch = get_list_boxes(prediction, S=5)\r\n",
        "  true_boxes_batch = get_list_boxes(labels.to(device), S=5)\r\n",
        "  batch_size = prediction.shape[0]\r\n",
        "\r\n",
        "  for i in range(batch_size):\r\n",
        "    predict_boxes_frame = predict_boxes_batch[i]\r\n",
        "    nms_predict_boxes_frame = non_max_suppression(predict_boxes_frame,iou_threshold,confidence_threshold)\r\n",
        "\r\n",
        "    for j in range(len(nms_predict_boxes_frame)):\r\n",
        "      all_predict_boxes.append([frame_idx] + nms_predict_boxes_frame[j])\r\n",
        "\r\n",
        "    true_boxes_frame = true_boxes_batch[i]\r\n",
        "    for k in range(len(true_boxes_frame)):\r\n",
        "      if true_boxes_frame[k][1] > confidence_threshold:\r\n",
        "        all_true_boxes.append([frame_idx] + true_boxes_frame[k])\r\n",
        "    frame_idx = frame_idx + 1\r\n",
        "\r\n"
      ],
      "execution_count": 20,
      "outputs": [
        {
          "output_type": "stream",
          "text": [
            "torch.Size([64, 25, 6])\n",
            "torch.Size([64, 25, 6])\n",
            "torch.Size([64, 25, 6])\n",
            "torch.Size([64, 25, 6])\n",
            "torch.Size([64, 25, 6])\n",
            "torch.Size([64, 25, 6])\n",
            "torch.Size([64, 25, 6])\n",
            "torch.Size([64, 25, 6])\n",
            "torch.Size([64, 25, 6])\n",
            "torch.Size([64, 25, 6])\n",
            "torch.Size([64, 25, 6])\n",
            "torch.Size([64, 25, 6])\n",
            "torch.Size([64, 25, 6])\n",
            "torch.Size([64, 25, 6])\n",
            "torch.Size([64, 25, 6])\n",
            "torch.Size([64, 25, 6])\n",
            "torch.Size([64, 25, 6])\n",
            "torch.Size([64, 25, 6])\n",
            "torch.Size([64, 25, 6])\n",
            "torch.Size([64, 25, 6])\n",
            "torch.Size([64, 25, 6])\n",
            "torch.Size([64, 25, 6])\n",
            "torch.Size([64, 25, 6])\n",
            "torch.Size([64, 25, 6])\n",
            "torch.Size([64, 25, 6])\n",
            "torch.Size([64, 25, 6])\n",
            "torch.Size([64, 25, 6])\n",
            "torch.Size([64, 25, 6])\n",
            "torch.Size([64, 25, 6])\n",
            "torch.Size([64, 25, 6])\n",
            "torch.Size([64, 25, 6])\n",
            "torch.Size([64, 25, 6])\n",
            "torch.Size([64, 25, 6])\n",
            "torch.Size([64, 25, 6])\n",
            "torch.Size([64, 25, 6])\n",
            "torch.Size([64, 25, 6])\n",
            "torch.Size([47, 25, 6])\n",
            "torch.Size([47, 25, 6])\n"
          ],
          "name": "stdout"
        }
      ]
    },
    {
      "cell_type": "code",
      "metadata": {
        "id": "dcs9Fykp3A5n"
      },
      "source": [
        "from utils import mean_average_precision"
      ],
      "execution_count": 22,
      "outputs": []
    },
    {
      "cell_type": "code",
      "metadata": {
        "id": "jWejhJP2zpqm"
      },
      "source": [
        "from utils import non_max_suppression "
      ],
      "execution_count": 18,
      "outputs": []
    },
    {
      "cell_type": "code",
      "metadata": {
        "colab": {
          "base_uri": "https://localhost:8080/"
        },
        "id": "U3OJQ8i66wet",
        "outputId": "d26c96be-6197-437f-8af6-3a7556936d17"
      },
      "source": [
        "mean_average_precision(all_predict_boxes, all_true_boxes)"
      ],
      "execution_count": 23,
      "outputs": [
        {
          "output_type": "execute_result",
          "data": {
            "text/plain": [
              "tensor(4.9056e-08)"
            ]
          },
          "metadata": {
            "tags": []
          },
          "execution_count": 23
        }
      ]
    },
    {
      "cell_type": "code",
      "metadata": {
        "id": "c7E_CvnKzgdW"
      },
      "source": [
        "nms_predict_boxes = non_max_suppression(mmm[0], 0.5, probability_threshold=0.3)"
      ],
      "execution_count": 235,
      "outputs": []
    },
    {
      "cell_type": "code",
      "metadata": {
        "id": "3eIhAimX6-vB"
      },
      "source": [
        ""
      ],
      "execution_count": null,
      "outputs": []
    },
    {
      "cell_type": "code",
      "metadata": {
        "colab": {
          "base_uri": "https://localhost:8080/"
        },
        "id": "gsoQQHL-zmLB",
        "outputId": "f0d7e65f-95a4-4ecd-9e8a-25ac5720301a"
      },
      "source": [
        "len(nms_predict_boxes)"
      ],
      "execution_count": 236,
      "outputs": [
        {
          "output_type": "execute_result",
          "data": {
            "text/plain": [
              "15"
            ]
          },
          "metadata": {
            "tags": []
          },
          "execution_count": 236
        }
      ]
    },
    {
      "cell_type": "code",
      "metadata": {
        "colab": {
          "base_uri": "https://localhost:8080/"
        },
        "id": "jL4cZqXgz-x_",
        "outputId": "04305b17-b6fd-4920-a48a-bd004ef4369c"
      },
      "source": [
        "aaa = get_list_boxes(label.to(device), S=5)"
      ],
      "execution_count": 239,
      "outputs": [
        {
          "output_type": "stream",
          "text": [
            "torch.Size([64, 25, 6])\n"
          ],
          "name": "stdout"
        }
      ]
    },
    {
      "cell_type": "code",
      "metadata": {
        "colab": {
          "base_uri": "https://localhost:8080/"
        },
        "id": "CVQtv2oW1oVR",
        "outputId": "8764af9a-38b6-4e6b-9a27-2dcef04abd16"
      },
      "source": [
        "aaa[0][5]"
      ],
      "execution_count": 250,
      "outputs": [
        {
          "output_type": "execute_result",
          "data": {
            "text/plain": [
              "[0.0, 0.0, 0.0, 0.20000000298023224, 0.0, 0.0]"
            ]
          },
          "metadata": {
            "tags": []
          },
          "execution_count": 250
        }
      ]
    },
    {
      "cell_type": "code",
      "metadata": {
        "id": "QKaFGt_c1ra2"
      },
      "source": [
        ""
      ],
      "execution_count": null,
      "outputs": []
    }
  ]
}