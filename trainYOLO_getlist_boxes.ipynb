{
  "nbformat": 4,
  "nbformat_minor": 0,
  "metadata": {
    "colab": {
      "name": "trainYOLO.ipynb",
      "provenance": [],
      "authorship_tag": "ABX9TyNJCLMz4WxyFQbHd4JPdRP2",
      "include_colab_link": true
    },
    "kernelspec": {
      "name": "python3",
      "display_name": "Python 3"
    }
  },
  "cells": [
    {
      "cell_type": "markdown",
      "metadata": {
        "id": "view-in-github",
        "colab_type": "text"
      },
      "source": [
        "<a href=\"https://colab.research.google.com/github/baiyunming/I2DL-WS2020/blob/main/trainYOLO_getlist_boxes.ipynb\" target=\"_parent\"><img src=\"https://colab.research.google.com/assets/colab-badge.svg\" alt=\"Open In Colab\"/></a>"
      ]
    },
    {
      "cell_type": "code",
      "metadata": {
        "id": "czfBGCmapxku"
      },
      "source": [
        "import os\r\n",
        "import torch\r\n",
        "from google.colab import drive\r\n",
        "from torch.utils.data import DataLoader"
      ],
      "execution_count": 10,
      "outputs": []
    },
    {
      "cell_type": "code",
      "metadata": {
        "colab": {
          "base_uri": "https://localhost:8080/"
        },
        "id": "0hCwrujrqQGg",
        "outputId": "38c5ef42-0d01-4f5c-f129-3e9d0a72fcac"
      },
      "source": [
        "drive.mount('/content/drive')"
      ],
      "execution_count": 2,
      "outputs": [
        {
          "output_type": "stream",
          "text": [
            "Mounted at /content/drive\n"
          ],
          "name": "stdout"
        }
      ]
    },
    {
      "cell_type": "code",
      "metadata": {
        "colab": {
          "base_uri": "https://localhost:8080/"
        },
        "id": "Lxzbc7pOqRSX",
        "outputId": "184b8fba-afa0-4185-ce5a-4f3048fc9f41"
      },
      "source": [
        "ls"
      ],
      "execution_count": 3,
      "outputs": [
        {
          "output_type": "stream",
          "text": [
            "\u001b[0m\u001b[01;34mdrive\u001b[0m/  \u001b[01;34msample_data\u001b[0m/\n"
          ],
          "name": "stdout"
        }
      ]
    },
    {
      "cell_type": "code",
      "metadata": {
        "colab": {
          "base_uri": "https://localhost:8080/"
        },
        "id": "RESv0m1ZqYYL",
        "outputId": "c0601a00-b7f8-4b8b-a57f-0f633ad71239"
      },
      "source": [
        "%cd drive/MyDrive/ObjectDetection/"
      ],
      "execution_count": 4,
      "outputs": [
        {
          "output_type": "stream",
          "text": [
            "/content/drive/MyDrive/ObjectDetection\n"
          ],
          "name": "stdout"
        }
      ]
    },
    {
      "cell_type": "code",
      "metadata": {
        "id": "VNVxi0_Oqetz"
      },
      "source": [
        "from model import YOLO_Resnet\r\n",
        "from loss import YoloLoss\r\n",
        "from animal_dataset import AnimalDataset"
      ],
      "execution_count": 5,
      "outputs": []
    },
    {
      "cell_type": "code",
      "metadata": {
        "id": "t1b8n2OsqtTY"
      },
      "source": [
        "train_dataset = AnimalDataset(\"/content/drive/MyDrive/ObjectDetection/animal_dataset/train.csv\")"
      ],
      "execution_count": 6,
      "outputs": []
    },
    {
      "cell_type": "code",
      "metadata": {
        "colab": {
          "base_uri": "https://localhost:8080/"
        },
        "id": "hwDbUnBvqy_A",
        "outputId": "15a47c35-d050-4026-b6eb-85bfec10c9cc"
      },
      "source": [
        "batch_size = 64\r\n",
        "train_dataloader = DataLoader(train_dataset, batch_size=batch_size, shuffle=True)\r\n",
        "img, label = next(iter(train_dataloader))\r\n",
        "print(img.shape)\r\n",
        "print(label.shape)"
      ],
      "execution_count": 8,
      "outputs": [
        {
          "output_type": "stream",
          "text": [
            "torch.Size([64, 3, 224, 224])\n",
            "torch.Size([64, 5, 5, 14])\n"
          ],
          "name": "stdout"
        }
      ]
    },
    {
      "cell_type": "code",
      "metadata": {
        "id": "3sxGyeuQqzfJ"
      },
      "source": [
        "device = \"cuda\" if torch.cuda.is_available() else \"cpu\"\r\n",
        "model = YOLO_Resnet().to(device)"
      ],
      "execution_count": 15,
      "outputs": []
    },
    {
      "cell_type": "code",
      "metadata": {
        "id": "zQ9d78gbrabT"
      },
      "source": [
        "prediction = model(img.to(device))"
      ],
      "execution_count": 17,
      "outputs": []
    },
    {
      "cell_type": "code",
      "metadata": {
        "colab": {
          "base_uri": "https://localhost:8080/"
        },
        "id": "5qRd6uTgPYRV",
        "outputId": "ed8cb73d-33cb-4f89-85d9-e57bc25015aa"
      },
      "source": [
        "prediction.shape"
      ],
      "execution_count": 18,
      "outputs": [
        {
          "output_type": "execute_result",
          "data": {
            "text/plain": [
              "torch.Size([64, 350])"
            ]
          },
          "metadata": {
            "tags": []
          },
          "execution_count": 18
        }
      ]
    },
    {
      "cell_type": "code",
      "metadata": {
        "id": "aVb0n5aLr1rp"
      },
      "source": [
        "loss = YoloLoss()"
      ],
      "execution_count": 19,
      "outputs": []
    },
    {
      "cell_type": "code",
      "metadata": {
        "id": "rqd7c9nvsHYL",
        "colab": {
          "base_uri": "https://localhost:8080/"
        },
        "outputId": "143876ae-d3f6-428d-ba6d-d40d8a877fc6"
      },
      "source": [
        "m = loss(prediction, label.to(device))\r\n",
        "print(m/64)"
      ],
      "execution_count": 23,
      "outputs": [
        {
          "output_type": "stream",
          "text": [
            "tensor(173.3277, grad_fn=<DivBackward0>)\n"
          ],
          "name": "stdout"
        }
      ]
    },
    {
      "cell_type": "code",
      "metadata": {
        "id": "NAqwQ-PZsUCX"
      },
      "source": [
        "import torch.optim as optim\r\n",
        "m.backward()\r\n",
        "optimizer = optim.Adam(model.parameters(), lr=2e-5)\r\n",
        "optimizer.step()\r\n"
      ],
      "execution_count": 24,
      "outputs": []
    },
    {
      "cell_type": "code",
      "metadata": {
        "colab": {
          "base_uri": "https://localhost:8080/"
        },
        "id": "GFzh1-ZssuW0",
        "outputId": "08f22281-2c5c-463c-f25e-950573fdd3f4"
      },
      "source": [
        "prediction_new = model(img.to(device)) \r\n",
        "m = loss(prediction_new, label.to(device))\r\n",
        "print(m/64)"
      ],
      "execution_count": 25,
      "outputs": [
        {
          "output_type": "stream",
          "text": [
            "tensor(168.4396, grad_fn=<DivBackward0>)\n"
          ],
          "name": "stdout"
        }
      ]
    },
    {
      "cell_type": "code",
      "metadata": {
        "id": "ZNDhpQItsy25",
        "colab": {
          "base_uri": "https://localhost:8080/"
        },
        "outputId": "02755ad5-cb94-44a7-e3e7-0ae0ac6f61ca"
      },
      "source": [
        "prediction.shape "
      ],
      "execution_count": 26,
      "outputs": [
        {
          "output_type": "execute_result",
          "data": {
            "text/plain": [
              "torch.Size([64, 350])"
            ]
          },
          "metadata": {
            "tags": []
          },
          "execution_count": 26
        }
      ]
    },
    {
      "cell_type": "code",
      "metadata": {
        "id": "mGJTs8T_Qr1j"
      },
      "source": [
        ""
      ],
      "execution_count": 28,
      "outputs": []
    },
    {
      "cell_type": "code",
      "metadata": {
        "colab": {
          "base_uri": "https://localhost:8080/"
        },
        "id": "sviidVmsQuez",
        "outputId": "448d6177-67c9-4a2e-da96-4149dd4ab556"
      },
      "source": [
        "prediction.shape"
      ],
      "execution_count": 30,
      "outputs": [
        {
          "output_type": "execute_result",
          "data": {
            "text/plain": [
              "torch.Size([64, 5, 5, 14])"
            ]
          },
          "metadata": {
            "tags": []
          },
          "execution_count": 30
        }
      ]
    },
    {
      "cell_type": "code",
      "metadata": {
        "id": "jHRqMAGEQ_3e"
      },
      "source": [
        "pred_box1 = prediction[...,5:9]\r\n",
        "pred_box2 = prediction[...,10:14]"
      ],
      "execution_count": 41,
      "outputs": []
    },
    {
      "cell_type": "code",
      "metadata": {
        "colab": {
          "base_uri": "https://localhost:8080/"
        },
        "id": "gaQz-fo0WiZW",
        "outputId": "6798ce30-e3bf-4bee-87ab-ac2b0c6048e1"
      },
      "source": [
        "pred_box1.shape"
      ],
      "execution_count": 107,
      "outputs": [
        {
          "output_type": "execute_result",
          "data": {
            "text/plain": [
              "torch.Size([64, 5, 5, 4])"
            ]
          },
          "metadata": {
            "tags": []
          },
          "execution_count": 107
        }
      ]
    },
    {
      "cell_type": "code",
      "metadata": {
        "id": "zt23dPLIRUW_"
      },
      "source": [
        "cat_result = torch.cat([(prediction[...,4]).unsqueeze(0), prediction[...,9].unsqueeze(0)],dim=0)"
      ],
      "execution_count": 45,
      "outputs": []
    },
    {
      "cell_type": "code",
      "metadata": {
        "id": "aGD5B5hmRhUy"
      },
      "source": [
        "box_high_score = cat_result.argmax(0).unsqueeze(-1)"
      ],
      "execution_count": 51,
      "outputs": []
    },
    {
      "cell_type": "code",
      "metadata": {
        "colab": {
          "base_uri": "https://localhost:8080/"
        },
        "id": "NCDUQUuLSJLc",
        "outputId": "dbf7e04f-6b64-4719-8fd3-8fd43899855e"
      },
      "source": [
        "box_high_score.shape #if zero first box has higher confidence, if one second box has higher confidence"
      ],
      "execution_count": 52,
      "outputs": [
        {
          "output_type": "execute_result",
          "data": {
            "text/plain": [
              "torch.Size([64, 5, 5, 1])"
            ]
          },
          "metadata": {
            "tags": []
          },
          "execution_count": 52
        }
      ]
    },
    {
      "cell_type": "code",
      "metadata": {
        "id": "5Xafk_q2SYki"
      },
      "source": [
        "final_box =(1-box_high_score) * pred_box1 + box_high_score * pred_box2"
      ],
      "execution_count": 54,
      "outputs": []
    },
    {
      "cell_type": "code",
      "metadata": {
        "colab": {
          "base_uri": "https://localhost:8080/"
        },
        "id": "ro7ibkZrSy7G",
        "outputId": "c6914fbd-43fc-4d7c-85e2-e2734c4d94ad"
      },
      "source": [
        "final_box.shape"
      ],
      "execution_count": 57,
      "outputs": [
        {
          "output_type": "execute_result",
          "data": {
            "text/plain": [
              "torch.Size([64, 5, 5, 4])"
            ]
          },
          "metadata": {
            "tags": []
          },
          "execution_count": 57
        }
      ]
    },
    {
      "cell_type": "code",
      "metadata": {
        "id": "H4n45wvBS333"
      },
      "source": [
        "#convert x, y width, height of box w.r.t. whole image\r\n",
        "S = 5 \r\n",
        "idx_x = torch.arange(S).repeat(batch_size,S,1)"
      ],
      "execution_count": 99,
      "outputs": []
    },
    {
      "cell_type": "code",
      "metadata": {
        "id": "72Na4A60UjRf"
      },
      "source": [
        "idx_y = torch.arange(S).unsqueeze(-1).repeat(batch_size,1,S)"
      ],
      "execution_count": 100,
      "outputs": []
    },
    {
      "cell_type": "code",
      "metadata": {
        "colab": {
          "base_uri": "https://localhost:8080/"
        },
        "id": "gFk6YLaQVRY-",
        "outputId": "7d42cc07-906e-477c-835b-94d81244d4af"
      },
      "source": [
        "idx_y[1,:,:]"
      ],
      "execution_count": 101,
      "outputs": [
        {
          "output_type": "execute_result",
          "data": {
            "text/plain": [
              "tensor([[0, 0, 0, 0, 0],\n",
              "        [1, 1, 1, 1, 1],\n",
              "        [2, 2, 2, 2, 2],\n",
              "        [3, 3, 3, 3, 3],\n",
              "        [4, 4, 4, 4, 4]])"
            ]
          },
          "metadata": {
            "tags": []
          },
          "execution_count": 101
        }
      ]
    },
    {
      "cell_type": "code",
      "metadata": {
        "colab": {
          "base_uri": "https://localhost:8080/"
        },
        "id": "zHKW_LKIVgRd",
        "outputId": "324d3072-0c2c-4296-c9a1-4e27ce2ff6d4"
      },
      "source": [
        "idx_x[1,:,:]"
      ],
      "execution_count": 103,
      "outputs": [
        {
          "output_type": "execute_result",
          "data": {
            "text/plain": [
              "tensor([[0, 1, 2, 3, 4],\n",
              "        [0, 1, 2, 3, 4],\n",
              "        [0, 1, 2, 3, 4],\n",
              "        [0, 1, 2, 3, 4],\n",
              "        [0, 1, 2, 3, 4]])"
            ]
          },
          "metadata": {
            "tags": []
          },
          "execution_count": 103
        }
      ]
    },
    {
      "cell_type": "code",
      "metadata": {
        "id": "kD5UTcy-TPV-"
      },
      "source": [
        "# dim: batch_size * S * S * 1 \r\n",
        "x_wrt_image = (1/S) * (final_box[...,0:1] + idx_x.unsqueeze(-1)) \r\n",
        "y_wrt_image = (1/S) * (final_box[...,1:2] + idx_y.unsqueeze(-1)) \r\n",
        "width_wrt_image = (1/S) * final_box[...,2:3]\r\n",
        "height_wrt_image = (1/S) * final_box[...,3:4]\r\n",
        "clss_label = prediction[...,0:4].argmax(-1).unsqueeze(-1) #get class label\r\n",
        "confidence = torch.max(prediction[...,4], prediction[...,9]).unsqueeze(-1)"
      ],
      "execution_count": 129,
      "outputs": []
    },
    {
      "cell_type": "code",
      "metadata": {
        "colab": {
          "base_uri": "https://localhost:8080/"
        },
        "id": "ftN9wBr-WWz3",
        "outputId": "21bbef4f-5d62-48fc-cf1e-46e63214f588"
      },
      "source": [
        "y_wrt_image.shape"
      ],
      "execution_count": 118,
      "outputs": [
        {
          "output_type": "execute_result",
          "data": {
            "text/plain": [
              "torch.Size([64, 5, 5, 1])"
            ]
          },
          "metadata": {
            "tags": []
          },
          "execution_count": 118
        }
      ]
    },
    {
      "cell_type": "code",
      "metadata": {
        "colab": {
          "base_uri": "https://localhost:8080/"
        },
        "id": "Dd01OaJwYEFK",
        "outputId": "125c6768-8ce9-43fc-b62d-fb42155e2e0b"
      },
      "source": [
        "torch.max(prediction[...,4], prediction[...,9]).shape"
      ],
      "execution_count": 126,
      "outputs": [
        {
          "output_type": "execute_result",
          "data": {
            "text/plain": [
              "torch.Size([64, 5, 5])"
            ]
          },
          "metadata": {
            "tags": []
          },
          "execution_count": 126
        }
      ]
    },
    {
      "cell_type": "code",
      "metadata": {
        "id": "Di1AXzkkaOSW"
      },
      "source": [
        "#batch_size * S * S * 6 (class, confidence, box_wrt_image)\r\n",
        "conerted_box = torch.cat([clss_label, confidence, x_wrt_image, y_wrt_image, width_wrt_image, height_wrt_image],dim=-1)"
      ],
      "execution_count": 173,
      "outputs": []
    },
    {
      "cell_type": "code",
      "metadata": {
        "colab": {
          "base_uri": "https://localhost:8080/"
        },
        "id": "_9NpJf9ia4mi",
        "outputId": "61f128b6-af78-4dfc-e7a3-7214720bc092"
      },
      "source": [
        "conerted_box.shape"
      ],
      "execution_count": 175,
      "outputs": [
        {
          "output_type": "execute_result",
          "data": {
            "text/plain": [
              "torch.Size([64, 5, 5, 6])"
            ]
          },
          "metadata": {
            "tags": []
          },
          "execution_count": 175
        }
      ]
    },
    {
      "cell_type": "code",
      "metadata": {
        "colab": {
          "base_uri": "https://localhost:8080/"
        },
        "id": "jdv8_G_TbICh",
        "outputId": "dfdb384c-49ee-4171-b1e5-c1a25e44ad6e"
      },
      "source": [
        "label[1,:,:,10] #first sample, 5*5, 10th element"
      ],
      "execution_count": 161,
      "outputs": [
        {
          "output_type": "execute_result",
          "data": {
            "text/plain": [
              "tensor([[0., 0., 0., 0., 0.],\n",
              "        [0., 0., 0., 0., 0.],\n",
              "        [0., 0., 0., 0., 0.],\n",
              "        [0., 0., 0., 0., 0.],\n",
              "        [0., 0., 0., 0., 0.]])"
            ]
          },
          "metadata": {
            "tags": []
          },
          "execution_count": 161
        }
      ]
    },
    {
      "cell_type": "code",
      "metadata": {
        "id": "9ruYfoyUbVmz"
      },
      "source": [
        "reshaped_box = conerted_box.reshape(batch_size, S*S, -1) #batch_size, S*S, 6 [class_idx, object_probability, x, y, w, h]"
      ],
      "execution_count": 176,
      "outputs": []
    },
    {
      "cell_type": "code",
      "metadata": {
        "colab": {
          "base_uri": "https://localhost:8080/"
        },
        "id": "oOO8UC9dejNI",
        "outputId": "6031bf40-0f60-4825-b292-4a5f15417037"
      },
      "source": [
        "reshaped_box.shape"
      ],
      "execution_count": 189,
      "outputs": [
        {
          "output_type": "execute_result",
          "data": {
            "text/plain": [
              "torch.Size([64, 25, 6])"
            ]
          },
          "metadata": {
            "tags": []
          },
          "execution_count": 189
        }
      ]
    },
    {
      "cell_type": "code",
      "metadata": {
        "colab": {
          "base_uri": "https://localhost:8080/"
        },
        "id": "AsV1p1TrelnY",
        "outputId": "40173040-cbd4-438a-b612-de85d6ad72ea"
      },
      "source": [
        "reshaped_box"
      ],
      "execution_count": 168,
      "outputs": [
        {
          "output_type": "execute_result",
          "data": {
            "text/plain": [
              "tensor([3])"
            ]
          },
          "metadata": {
            "tags": []
          },
          "execution_count": 168
        }
      ]
    },
    {
      "cell_type": "code",
      "metadata": {
        "id": "JqTWfOzXeoh9"
      },
      "source": [
        "boxes_batchs = []\r\n",
        "for i in range(batch_size):\r\n",
        "  boxes_frame = []\r\n",
        "  for j in range(S*S):\r\n",
        "    boxes_frame.append([x.item() for x in reshaped_box[i,j,:]])\r\n",
        "  boxes_batchs.append(boxes_frame)  \r\n"
      ],
      "execution_count": 221,
      "outputs": []
    },
    {
      "cell_type": "code",
      "metadata": {
        "id": "noVvkpQwiy9i"
      },
      "source": [
        "def get_list_boxes(prediction, S=5):\r\n",
        "  #prediction dim: batch_size * S * S * 14 （class_idx 4 + 5 * B=2）\r\n",
        "  #return list: batch_size * (S*S) \r\n",
        "  batch_size = prediction.shape[0]\r\n",
        "  prediction = prediction.to(\"cpu\")\r\n",
        "  prediction = prediction.reshape(prediction.shape[0], S, S, 14)\r\n",
        "  pred_box1 = prediction[...,5:9]\r\n",
        "  pred_box2 = prediction[...,10:14]\r\n",
        "\r\n",
        "  cat_result = torch.cat([(prediction[...,4]).unsqueeze(0), prediction[...,9].unsqueeze(0)],dim=0)\r\n",
        "  box_high_score = cat_result.argmax(0).unsqueeze(-1)\r\n",
        "  final_box =(1-box_high_score) * pred_box1 + box_high_score * pred_box2\r\n",
        "\r\n",
        "  idx_x = torch.arange(S).repeat(batch_size,S,1)\r\n",
        "  idx_y = torch.arange(S).unsqueeze(-1).repeat(batch_size,1,S)\r\n",
        "\r\n",
        "  # dim: batch_size * S * S * 1 \r\n",
        "  x_wrt_image = (1/S) * (final_box[...,0:1] + idx_x.unsqueeze(-1)) \r\n",
        "  y_wrt_image = (1/S) * (final_box[...,1:2] + idx_y.unsqueeze(-1)) \r\n",
        "  width_wrt_image = (1/S) * final_box[...,2:3]\r\n",
        "  height_wrt_image = (1/S) * final_box[...,3:4]\r\n",
        "  clss_label = prediction[...,0:4].argmax(-1).unsqueeze(-1) #get class label\r\n",
        "  confidence = torch.max(prediction[...,4], prediction[...,9]).unsqueeze(-1)\r\n",
        "\r\n",
        "  converted_box = torch.cat([clss_label, confidence, x_wrt_image, y_wrt_image, width_wrt_image, height_wrt_image],dim=-1)\r\n",
        "\r\n",
        "  reshaped_box = converted_box.reshape(batch_size, S*S, -1) #batch_size, S*S, 6 [class_idx, object_probability, x, y, w, h]\r\n",
        "  print(reshaped_box.shape)\r\n",
        "\r\n",
        "  boxes_batch = []\r\n",
        "  for i in range(batch_size):\r\n",
        "    boxes_frame = []\r\n",
        "    for j in range(S*S):\r\n",
        "      boxes_frame.append([x.item() for x in reshaped_box[i,j,:]])\r\n",
        "    boxes_batch.append(boxes_frame)\r\n",
        "\r\n",
        "  \r\n",
        "  return boxes_batch \r\n"
      ],
      "execution_count": 214,
      "outputs": []
    },
    {
      "cell_type": "code",
      "metadata": {
        "colab": {
          "base_uri": "https://localhost:8080/"
        },
        "id": "ScDyyEcllF-l",
        "outputId": "1c6f5ea4-8165-4ba8-e4a7-d73c1469ec67"
      },
      "source": [
        "mmm = get_list_boxes(prediction)"
      ],
      "execution_count": 215,
      "outputs": [
        {
          "output_type": "stream",
          "text": [
            "torch.Size([64, 25, 6])\n"
          ],
          "name": "stdout"
        }
      ]
    },
    {
      "cell_type": "code",
      "metadata": {
        "colab": {
          "base_uri": "https://localhost:8080/"
        },
        "id": "qNtVumb9lKFc",
        "outputId": "994dd7a6-6776-4fef-fb76-164719b4b491"
      },
      "source": [
        "prediction.shape"
      ],
      "execution_count": 225,
      "outputs": [
        {
          "output_type": "execute_result",
          "data": {
            "text/plain": [
              "torch.Size([64, 5, 5, 14])"
            ]
          },
          "metadata": {
            "tags": []
          },
          "execution_count": 225
        }
      ]
    },
    {
      "cell_type": "code",
      "metadata": {
        "id": "INsDY_OFmJeV"
      },
      "source": [
        "for "
      ],
      "execution_count": null,
      "outputs": []
    }
  ]
}